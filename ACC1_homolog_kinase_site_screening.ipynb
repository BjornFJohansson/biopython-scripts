{
 "cells": [
  {
   "cell_type": "markdown",
   "metadata": {},
   "source": [
    "# Screening the 1000 top _Saccharomyces cerevisiae_ genbank homologues for phospharylation sites\n",
    "\n",
    "\n",
    "The [ACC1 gene](http://sgd-beta.stanford.edu/locus/S000005299/overview) of _S. cerevisiae_ contains a number of phosphorylation sites. The ACC1 SGD entry has information on phosphorylated [aminoacids](https://www.yeastgenome.org/locus/S000005299/protein). [Phosphopep](http://www.sbeams.org/devDC/sbeams/cgi/Glycopeptide/peptideSearch.cgi?action=Show_hits_form;search_type=accession;organism=sce;search_term=YNR016C) and [BioGRID](https://thebiogrid.org/35841/protein) has the same information displayed in different ways.\n",
    "\n",
    "Genbank should contain many fungal Acetyl-CoA carboxylase genes that might lack some or all of these phosphorylation sites.\n",
    "\n",
    "The accession number of the ACC1 protein sequence is [AAA20073](http://www.ncbi.nlm.nih.gov/protein/171504/).\n",
    "\n",
    "This CAN be done manually [here](https://blast.ncbi.nlm.nih.gov/Blast.cgi?PROGRAM=blastp&PAGE_TYPE=BlastSearch&LINK_LOC=blasthome&QUERY=AAA20073) like this:\n",
    "\n",
    "![blast of AAA20073](blast_AAA20073.png)\n",
    "\n",
    "When the blast search is finished, you will be taken to a results page that looks like this:\n",
    "\n",
    "![blast result](blast_AAA20073_results.png)\n",
    "\n",
    "If you scroll down the page, you can click on the links on the right side of the page for each result.\n",
    "These links will give you the Genbank file for each of the sequences that produced the blast hists with your sequence like this:\n",
    "\n",
    "![three_first_blast_results.png](three_first_blast_results.png)\n",
    "\n",
    "However, it is very laborious. You will easily introduce errors. What if you want to redo the analysis frequently to see if new relevant sequences have been found? What if your [boss](boss.jpg) tells you he needs the same results for another protein? or the thousand best blast hits?\n",
    "\n",
    "\n",
    "## Biopython\n",
    "\n",
    "from [Wikipedia](https://en.wikipedia.org/wiki/Biopython)\n",
    "\n",
    "\"The Biopython Project is an open-source collection of non-commercial Python tools for computational biology and bioinformatics, created by an international association of developers. \n",
    "\n",
    "It contains classes to represent biological sequences and sequence annotations, and it is able to read and write to a variety of file formats. \n",
    "\n",
    "It also allows for a **programmatic means of accessing online databases of biological information**, such as those at NCBI. Separate modules extend Biopython's capabilities to sequence alignment, protein structure, population genetics, phylogenetics, sequence motifs, and machine learning.\n",
    "\n",
    "Sounds good!\n",
    "\n",
    "Lets look in more detail. There is an online tutorial for Biopython and it contains information on what we want [here](http://biopython.org/DIST/docs/tutorial/Tutorial.html#htoc86).\n",
    "\n",
    "We can use the qblast() function provided by Biopython as in the tutorial.\n",
    "Qblast produces results in [XML](https://en.wikipedia.org/wiki/XML) format.\n",
    "\n",
    "This analysis takes some time, so we would like to save the results in a file just as they did in the tutorial.\n",
    "\n",
    "We call this file \"my_blast.xml\" in the code cell below:"
   ]
  },
  {
   "cell_type": "code",
   "execution_count": 2,
   "metadata": {
    "collapsed": true
   },
   "outputs": [],
   "source": [
    "Number_of_sequences = 1000"
   ]
  },
  {
   "cell_type": "code",
   "execution_count": 3,
   "metadata": {
    "collapsed": true
   },
   "outputs": [],
   "source": [
    "from Bio.Blast import NCBIWWW\n",
    "\n",
    "result_handle = NCBIWWW.qblast(\"blastp\", \n",
    "                               \"nr\", \n",
    "                               \"AAA20073\", \n",
    "                               hitlist_size=Number_of_sequences,\n",
    "                               alignments = 1, \n",
    "                               expect=10.0)\n",
    "\n",
    "with open(\"my_blast.xml\", \"w\") as f:\n",
    "    f.write(result_handle.read())    \n",
    "    \n",
    "result_handle.close()"
   ]
  },
  {
   "cell_type": "markdown",
   "metadata": {},
   "source": [
    "The [my_blast.xml](my_blast.xml) file contains information on all High-scoring Segment Pair [HSP](https://en.wikipedia.org/wiki/BLAST#Algorithm) for each one of the most similar sequences and the parameters that were used in the analysis.\n",
    "\n",
    "Biopython has a [parser](http://biopython.org/DIST/docs/tutorial/Tutorial.html#htoc91) that can be used to extract [ACCESSION](https://en.wikipedia.org/wiki/Accession_number_%28bioinformatics%29) numbers for all the results:"
   ]
  },
  {
   "cell_type": "code",
   "execution_count": 4,
   "metadata": {
    "collapsed": true
   },
   "outputs": [],
   "source": [
    "from Bio.Blast import NCBIXML\n",
    "\n",
    "result_handle = open(\"my_blast.xml\")\n",
    "\n",
    "blast_record = NCBIXML.read(result_handle)\n",
    "\n",
    "accessions = []\n",
    "\n",
    "for h in blast_record.alignments:\n",
    "    accessions.append(h.accession)\n",
    "\n",
    "result_handle.close()"
   ]
  },
  {
   "cell_type": "code",
   "execution_count": 5,
   "metadata": {},
   "outputs": [
    {
     "data": {
      "text/plain": [
       "1000"
      ]
     },
     "execution_count": 5,
     "metadata": {},
     "output_type": "execute_result"
    }
   ],
   "source": [
    "len(accessions)"
   ]
  },
  {
   "cell_type": "markdown",
   "metadata": {},
   "source": [
    "The first five ACCESSION numbers:"
   ]
  },
  {
   "cell_type": "code",
   "execution_count": 6,
   "metadata": {},
   "outputs": [
    {
     "data": {
      "text/plain": [
       "['AAA20073', 'NP_014413', 'AJT05884', 'EDN62822', 'AJT27522']"
      ]
     },
     "execution_count": 6,
     "metadata": {},
     "output_type": "execute_result"
    }
   ],
   "source": [
    "accessions[:5]"
   ]
  },
  {
   "cell_type": "markdown",
   "metadata": {},
   "source": [
    "Now we would like to get the sequences for all of the ACCESSION numbers.\n",
    "This is trickier than we might expect, due to the design of the database.\n",
    "\n",
    "We have to make a string containing all of the numbers divided by a blank:"
   ]
  },
  {
   "cell_type": "code",
   "execution_count": 7,
   "metadata": {},
   "outputs": [
    {
     "data": {
      "text/plain": [
       "'AAA20073 NP_014413 AJT05884 EDN62822 AJT27522 AJT07736 AJT31'"
      ]
     },
     "execution_count": 7,
     "metadata": {},
     "output_type": "execute_result"
    }
   ],
   "source": [
    "query  = \" \".join(accessions)\n",
    "query[:60]"
   ]
  },
  {
   "cell_type": "markdown",
   "metadata": {},
   "source": [
    "We have to set a variable to say how many results we want. \n",
    "We call this variable retmax. We should set is to as many sequence as we have in the ids list:"
   ]
  },
  {
   "cell_type": "code",
   "execution_count": 8,
   "metadata": {
    "collapsed": true
   },
   "outputs": [],
   "source": [
    "retmax = len(accessions)"
   ]
  },
  {
   "cell_type": "markdown",
   "metadata": {},
   "source": [
    "We will use functionality of the Entrez module.\n",
    "We have to tell Genbank who we are when we use their service.\n",
    "We can do this by setting the Entrez.email variable."
   ]
  },
  {
   "cell_type": "markdown",
   "metadata": {},
   "source": [
    "First we need the gi number associated with each accession number.\n",
    "\n",
    "We will use the biopython wrapper for the Entrez E-utilities server programs.\n",
    "Here is a tutorial from [NCBI](http://www.ncbi.nlm.nih.gov/books/NBK25501/).\n",
    "\n",
    "[Entrez.esearch](http://biopython.org/DIST/docs/tutorial/Tutorial.html#htoc112) can be used to search the E-utilities programs."
   ]
  },
  {
   "cell_type": "markdown",
   "metadata": {},
   "source": [
    "The code below posts a search on Entrez that we can fetch later"
   ]
  },
  {
   "cell_type": "code",
   "execution_count": 13,
   "metadata": {},
   "outputs": [
    {
     "data": {
      "text/plain": [
       "10393"
      ]
     },
     "execution_count": 13,
     "metadata": {},
     "output_type": "execute_result"
    }
   ],
   "source": [
    "len(query)"
   ]
  },
  {
   "cell_type": "code",
   "execution_count": 15,
   "metadata": {
    "collapsed": true
   },
   "outputs": [],
   "source": [
    "from Bio import Entrez\n",
    "Entrez.email = \"bjornjobb@gmail.com\"\n",
    "\n",
    "query  = \" \".join(accessions)\n",
    "retmax=1000\n",
    "handle = Entrez.esearch( db=\"protein\",term=query,retmax=retmax , usehistory=\"y\")\n",
    "giList = Entrez.read(handle)['IdList']"
   ]
  },
  {
   "cell_type": "code",
   "execution_count": 17,
   "metadata": {},
   "outputs": [
    {
     "data": {
      "text/plain": [
       "1000"
      ]
     },
     "execution_count": 17,
     "metadata": {},
     "output_type": "execute_result"
    }
   ],
   "source": [
    "len(giList)"
   ]
  },
  {
   "cell_type": "code",
   "execution_count": 18,
   "metadata": {
    "collapsed": true
   },
   "outputs": [],
   "source": [
    "handle = Entrez.epost(db=\"protein\", id=\",\".join(giList), rettype=\"fasta\", retmode=\"text\")\n",
    "\n",
    "result = Entrez.read(handle)\n",
    "\n",
    "search_results = result\n",
    "\n",
    "webenv, query_key  = search_results[\"WebEnv\"], search_results[\"QueryKey\"]"
   ]
  },
  {
   "cell_type": "markdown",
   "metadata": {},
   "source": [
    "Below, we download the results in batches of 100 sequences."
   ]
  },
  {
   "cell_type": "code",
   "execution_count": 20,
   "metadata": {
    "collapsed": true
   },
   "outputs": [],
   "source": [
    "batchSize    = 100\n",
    "db=\"protein\"\n",
    "\n",
    "\n",
    "for start in range( 0, len(giList), batchSize ):\n",
    "\n",
    "    handle = Entrez.efetch(db=db, \n",
    "                           rettype=\"gb\", \n",
    "                           retstart=start, \n",
    "                           retmax=batchSize, \n",
    "                           webenv=webenv, \n",
    "                           query_key=query_key)\n",
    "\n",
    "    with open(\"genbank_sequences.gb\", \"a+\") as f:\n",
    "        f.write(handle.read())"
   ]
  },
  {
   "cell_type": "markdown",
   "metadata": {},
   "source": [
    "File with all the results (This file can be big!):\n",
    "\n",
    "[genbank_sequences](genbank_sequences.gb)"
   ]
  },
  {
   "cell_type": "code",
   "execution_count": 21,
   "metadata": {
    "collapsed": true
   },
   "outputs": [],
   "source": [
    "# http://www.biostars.org/p/66921/\n",
    "# http://www.biostars.org/p/63506/\n",
    "# https://paperpile.com/shared/qlNu3j\n",
    "# https://paperpile.com/shared/kdaV1s"
   ]
  },
  {
   "cell_type": "code",
   "execution_count": 29,
   "metadata": {},
   "outputs": [
    {
     "name": "stdout",
     "output_type": "stream",
     "text": [
      "557 XP_002174469.1\n",
      "560 KFH45103.1\n",
      "626 CDS10010.1\n",
      "628 RCI05537.1\n",
      "629 CEP09288.1\n",
      "630 ORZ01680.1\n",
      "631 CDH52590.1\n",
      "661 KDE05599.1\n",
      "662 SGZ26149.1\n",
      "682 POY75327.1\n",
      "701 KWU41533.1\n",
      "705 XP_018270360.1\n",
      "715 SCV70467.1\n",
      "801 KDQ18913.1\n",
      "886 XP_025349007.1\n"
     ]
    }
   ],
   "source": [
    "from Bio import SeqIO\n",
    "import re\n",
    "\n",
    "f=open(\"genbank_sequences.gb\",\"r\")\n",
    "sequences = SeqIO.parse(f, \"gb\")\n",
    "\n",
    "seqs_wo_phos = []\n",
    "seqs_w_phos = []\n",
    "\n",
    "kinase_site  = re.compile(\"((M|L|F|I|V).(R|H|K)..S...(M|L|F|I|V))\")\n",
    "kinase_site2 = re.compile(\"((M|L|F|I|V)(R|H|K)...S...(M|L|F|I|V))\")\n",
    "\n",
    "\n",
    "for i,s in enumerate(sequences):\n",
    "    ms  = list(kinase_site.finditer(str(s.seq).upper()))\n",
    "    ms2 = list(kinase_site2.finditer(str(s.seq).upper()))\n",
    "    if ms or ms2:\n",
    "        seqs_w_phos.append(s)\n",
    "    else:      \n",
    "        print(i, s.id)\n",
    "        seqs_wo_phos.append(s)\n",
    "f.close()"
   ]
  },
  {
   "cell_type": "code",
   "execution_count": 16,
   "metadata": {},
   "outputs": [
    {
     "data": {
      "text/html": [
       "<a href=\"https://www.ncbi.nlm.nih.gov/protein/XP_002174469.1\">acetyl-CoA/biotin carboxylase [Schizosaccharomyces japonicus yFS275]</a>"
      ],
      "text/plain": [
       "<IPython.core.display.HTML object>"
      ]
     },
     "metadata": {},
     "output_type": "display_data"
    },
    {
     "data": {
      "text/html": [
       "<a href=\"https://www.ncbi.nlm.nih.gov/protein/KFH45103.1\">Acetyl-CoA carboxylase-like protein [Acremonium chrysogenum ATCC 11550]</a>"
      ],
      "text/plain": [
       "<IPython.core.display.HTML object>"
      ]
     },
     "metadata": {},
     "output_type": "display_data"
    },
    {
     "data": {
      "text/html": [
       "<a href=\"https://www.ncbi.nlm.nih.gov/protein/CDS10010.1\">hypothetical protein LRAMOSA02687 [Lichtheimia ramosa]</a>"
      ],
      "text/plain": [
       "<IPython.core.display.HTML object>"
      ]
     },
     "metadata": {},
     "output_type": "display_data"
    },
    {
     "data": {
      "text/html": [
       "<a href=\"https://www.ncbi.nlm.nih.gov/protein/RCI05537.1\">acetyl-coenzyme-A carboxylase [Rhizopus stolonifer]</a>"
      ],
      "text/plain": [
       "<IPython.core.display.HTML object>"
      ]
     },
     "metadata": {},
     "output_type": "display_data"
    },
    {
     "data": {
      "text/html": [
       "<a href=\"https://www.ncbi.nlm.nih.gov/protein/CEP09288.1\">hypothetical protein [Parasitella parasitica]</a>"
      ],
      "text/plain": [
       "<IPython.core.display.HTML object>"
      ]
     },
     "metadata": {},
     "output_type": "display_data"
    },
    {
     "data": {
      "text/html": [
       "<a href=\"https://www.ncbi.nlm.nih.gov/protein/ORZ01680.1\">acetyl-CoA carboxylase [Syncephalastrum racemosum]</a>"
      ],
      "text/plain": [
       "<IPython.core.display.HTML object>"
      ]
     },
     "metadata": {},
     "output_type": "display_data"
    },
    {
     "data": {
      "text/html": [
       "<a href=\"https://www.ncbi.nlm.nih.gov/protein/CDH52590.1\">acetyl-carboxylase [Lichtheimia corymbifera JMRC:FSU:9682]</a>"
      ],
      "text/plain": [
       "<IPython.core.display.HTML object>"
      ]
     },
     "metadata": {},
     "output_type": "display_data"
    },
    {
     "data": {
      "text/html": [
       "<a href=\"https://www.ncbi.nlm.nih.gov/protein/KDE05599.1\">acetyl-CoA carboxylase [Microbotryum lychnidis-dioicae p1A1 Lamole]</a>"
      ],
      "text/plain": [
       "<IPython.core.display.HTML object>"
      ]
     },
     "metadata": {},
     "output_type": "display_data"
    },
    {
     "data": {
      "text/html": [
       "<a href=\"https://www.ncbi.nlm.nih.gov/protein/SGZ26149.1\">BQ5605_C024g09846 [Microbotryum silenes-dioicae]</a>"
      ],
      "text/plain": [
       "<IPython.core.display.HTML object>"
      ]
     },
     "metadata": {},
     "output_type": "display_data"
    },
    {
     "data": {
      "text/html": [
       "<a href=\"https://www.ncbi.nlm.nih.gov/protein/POY75327.1\">putative Acetyl-CoA carboxylase, partial [Rhodotorula taiwanensis]</a>"
      ],
      "text/plain": [
       "<IPython.core.display.HTML object>"
      ]
     },
     "metadata": {},
     "output_type": "display_data"
    },
    {
     "data": {
      "text/html": [
       "<a href=\"https://www.ncbi.nlm.nih.gov/protein/KWU41533.1\">hypothetical protein RHOSPDRAFT_36903 [Rhodotorula sp. JG-1b]</a>"
      ],
      "text/plain": [
       "<IPython.core.display.HTML object>"
      ]
     },
     "metadata": {},
     "output_type": "display_data"
    },
    {
     "data": {
      "text/html": [
       "<a href=\"https://www.ncbi.nlm.nih.gov/protein/XP_018270360.1\">hypothetical protein RHOBADRAFT_37308 [Rhodotorula graminis WP1]</a>"
      ],
      "text/plain": [
       "<IPython.core.display.HTML object>"
      ]
     },
     "metadata": {},
     "output_type": "display_data"
    },
    {
     "data": {
      "text/html": [
       "<a href=\"https://www.ncbi.nlm.nih.gov/protein/SCV70467.1\">BQ2448_1861 [Microbotryum intermedium]</a>"
      ],
      "text/plain": [
       "<IPython.core.display.HTML object>"
      ]
     },
     "metadata": {},
     "output_type": "display_data"
    },
    {
     "data": {
      "text/html": [
       "<a href=\"https://www.ncbi.nlm.nih.gov/protein/KDQ18913.1\">hypothetical protein BOTBODRAFT_28387 [Botryobasidium botryosum FD-172 SS1]</a>"
      ],
      "text/plain": [
       "<IPython.core.display.HTML object>"
      ]
     },
     "metadata": {},
     "output_type": "display_data"
    },
    {
     "data": {
      "text/html": [
       "<a href=\"https://www.ncbi.nlm.nih.gov/protein/XP_025349007.1\">hypothetical protein BCV69DRAFT_157076 [Pseudomicrostroma glucosiphilum]</a>"
      ],
      "text/plain": [
       "<IPython.core.display.HTML object>"
      ]
     },
     "metadata": {},
     "output_type": "display_data"
    }
   ],
   "source": [
    "from IPython.core.display import display, HTML\n",
    "for seq in seqs_wo_phos:\n",
    "    display(HTML(f'<a href=\"https://www.ncbi.nlm.nih.gov/protein/{seq.id}\">{seq.description}</a>'))"
   ]
  },
  {
   "cell_type": "code",
   "execution_count": 17,
   "metadata": {},
   "outputs": [
    {
     "name": "stdout",
     "output_type": "stream",
     "text": [
      ">AAA20073.1 acetyl-CoA carboxylase [Saccharomyces cerevisiae]\n",
      "MSEESLFESSPQKMEYEITNYSERHTELPGHFIGLNTVDKLEESPLRDFVKSHGGHTVIS\n",
      "KILIANNGIAAVKEIRSVRKWAYETFGDDRTVQFVAMATPEDLEANAEYIRMADQYIEVP\n",
      "GGTNNNNYANVDLIVDIAERADVDAVWAGWGHASENPLLPEKLSQSKRKVIFIGPPGNAM\n",
      "RSLGDKISSTIVAQSAKVPCIPWSGTGVDTVHVDEKTGLVSVDDDIYQKGCCTSPEDGLQ\n",
      "KAKRIGFPVMIKASEGGGGKGIRQVEREEDFIALYHQAANEIPGSPIFIMKLAGRARHLE\n",
      "VQLLADQYGTNISLFGRDCSVQRRHQKIIEEAPVTIAKAETFHEMEKAAVRLGKLVGYVS\n",
      "AGTVEYLYSHDDGKFYFLELNPRLQVEHPTTEMVSGVNLPAAQLQIAMGIPMHRISDIRT\n",
      "LYGMNPHSASEIDFEFKTQDATKKQRRPIPKGHCTACRITSEDPNDGFKPSGGTLHELNF\n",
      "RSSSNVWGYFSVGNNGNIHSFSDSQFGHIFAFGENRQASRKHMVVALKELSIRGDFRTTV\n",
      "EYLIKLLETEDFEDNTITTGWLDDLITHKMTAEKPDPTLAVICGAATKAFLASEEARHKY\n",
      "IESLQKGQVLSKDLLQTMFPVDFIHEGKRYKFTVAKSGNDRYTLFINGSKCDIILRQLSD\n",
      "GGLLIAIGGKSHTIYWKEEVAATRLSVDSMTTLLEVENDPTQLRTPSPGKLVKFLVENGE\n",
      "HIIKGQPYAEIEVMKMQMPLVSQENGIVQLLKQPGSTIVAGDIMAIMTLDDPSKVKHALP\n",
      "FEGMLPDFGSPVIEGTKPAYKFKSLVSTLENILKGYDNQVIMNASLQQLIEVLRNPKLPY\n",
      "SEWKLHISALHSRLPAKLDEQMEELVARSLRRGAVFPARQLSKLIDMAVKNPEYNPDKLL\n",
      "GAVVEPLADIAHKYSNGLEAHEHSIFVHFLEEYYEVEKLFNGPNVREENIILKLRDENPK\n",
      "DLDKVALTVLSHSKVSAKNNLILAILKHYQPLCKLSSKVSAIFSTPLQHIVELESKATAK\n",
      "VALQAREILIQGALPSVKERTEQIEHILKSSVVKVAYGSSNPKRSEPDLNILKDLIDSNY\n",
      "VVFDVLLQFLTHQDPVVTAAAAQVYIRRAYRAYTIGDIRVHEGVTVPIVEWKFQLPSAAF\n",
      "STFPTVKSKMGMNRAVSVSDLSYVANSQSSPLREGILMAVDHLDDVDEILSQSLEVIPRH\n",
      "QSSSNGPAPDRSGSSASLSNVANVCVASTEGFESEEEILVRLREILDLNKQELINASIRR\n",
      "ITFMFGFKDGSYPKYYTFNGPNYNENETIRHIEPALAFQLELGRLSNFNIKPIFTDNRNI\n",
      "HVYEAVSKTSPLDKRFFTRGIIRTGHIRDDISIQEYLTSEANRLMSDILDNLEVTDTSNS\n",
      "DLNHIFINFIAVFDISPEDVEAAFGGFLERFGKRLLRLRVSSAEIRIIIKDPQTGAPVPL\n",
      "RALINNVSGYVIKTEMYTEVKNAKGEWVFKSLGKPGSMHLRPIATPYPVKEWLQPKRYKA\n",
      "HLMGTTYVYDFPELFRQASSSQGKNFSADVKLTDDFFISNELIEDENGELTEVEREPGAN\n",
      "AIGMVAFKITVKTPEYPRGRQFVVVANDITFKIGSFGPQEDEFFNKVTEYARKRGIPRIY\n",
      "LAANSGARIGMAEEIVPLFQVAWNDAANPDKGFQYLYLTSEGMETLKKFDKENSVLTERT\n",
      "VINGEERFVIKTIIGSEDGLGVECLRGSGLIAGATSRAYHDIFTITLVTCRSVGIGAYLV\n",
      "RLGQRAIQVEGQPIIWYRCLLTGAPESTNAGREVYTSNLQLGGTQIMYNNGVSHLTAVDD\n",
      "LAGVEKIVEWMSYVPAKRNMPVPILETKDTWDRPVDFTPTNDETYDVRWMIEGRETESGF\n",
      "EYGLFDKGSFFETLSGWAKGVVVGRARLGGIPLGVIGVETRTVENLIPADPANPNSAETL\n",
      "IQEPGQVWHPNSAFKTAQAINDFNNGEQLPMMILANWRGFSGGQRDMFNEVLKYGSFIVD\n",
      "ALVDYKQPIIIYIPPTGELRGGSWVVVDPTINADQMEMYADVNARAGVLEPQGMVGIKFR\n",
      "REKLLDTMNRLDDKYRELRSQLSNKSLAPEVHQQISKQLADRERELLPIYGQISLQFADL\n",
      "HDRSSRMVAKGVISKELEWTEARRFFFWRLRRRLNEEYLIKRLSHQVGEASRLEKIARIR\n",
      "SWYPASVDHEDDRQVATWIEENYKTLDDKLKGLKLESFAQDLAKKIRSDHDNAIDGLSEV\n",
      "IKMLSTDDKEKLLKTLK\n",
      "\n",
      ">XP_002174469.1 acetyl-CoA/biotin carboxylase [Schizosaccharomyces japonicus yFS275]\n",
      "MYHSCFLTERSASNVSTLFQSSSTFSTCHSPPFPPFHIFSLTSLLSQRHVRSSLPLILTI\n",
      "AGGNSLSVAPEGKLKDYVKSRNGHTVISSILIANNGIAAVKEIRSIRKWAYETFNDERAI\n",
      "QFTVMATPEDLKVNADYIRMADQYIEVPGGSNNNNYANVELIVDIAERMGVHAVWAGWGH\n",
      "ASENPRLPEMLAASKQKIVFIGPPGNAMRSLGDKISSTIVAQSARVPCMPWSGNGIDTVH\n",
      "VDDDTGIVTVDEDTYSKACVTSPEQGLQVAKEVGFPIMIKASEGGGGKGIRKVEEPEKFA\n",
      "QCYEQVMAEVPGSPVFIMKLAGHARHLEVQLLADQYGNNISLFGRDCSVQRRHQKIIEEA\n",
      "PVSIAPAETFHQMERCAVRLGELVGYVSAGTVEYLYEPEENKFYFLELNPRLQVEHPTTE\n",
      "MVSGVNLPAAQLQVAMGIPLKCIPDIRTMYGLDPNGDSDIDWFFKNPESLQTQKRPTPRG\n",
      "HCIACRITSEDPGEGFKPSSGMIKELNFRSSSDVWGYFSVGTAGGIHEYADSQFGHIFAF\n",
      "AKTRESSRKSLVVALKEVSIRGDFRTTVEYLIRLLETSAFTENRFTTGWLDTLISQKLTS\n",
      "EKPDKILAVVCGALVRAHATSEEQHRAFRSYLERGQVPSRDFLKNIYDIEFIYENQRYRF\n",
      "TATRSSPGSYHLFLNGSRCTAGVRTLTDGGLLILLNGHSFTVYYRDEVNGTRITIDNKSC\n",
      "ILEQENDPTQLRTPSPGKLVRFLVETGEHIKAGEAFAEVEVMKMIMPLVAAEDGIIQLIK\n",
      "QPGASLEAGDILGILTLDDPSRVKHALPFNGQLPVWGEPQIAGSKPAQRYSALLGILKDI\n",
      "LRGYDNQIIMKSTYKELVEVLRDPELPYGEWNAHYSALVSRIPHNLDKVFTSIVEKAHHR\n",
      "KSEFPAKQLIMALNAYFEPQKLAAIQTLKMQLAPLIEIMEKYKEGLKAHEFSVFIELLED\n",
      "YYNVERLFSGPHKREEDVILRLRDENKDDADKVIDLALSHSRIGSKNNLILTILDLIKSE\n",
      "PSTFVSTYFNDIFRKLTELDSRATAKVALKAREILITCAMPSLSERFSQMEHILRSSVVE\n",
      "SHYGDATFSHRAPYLEVLKELIDSKYTVFDVLPAFFCHDDPWVSLAALEVYVRRAYRAYA\n",
      "VLELSYHTESKPFVLSWQFQLRASGTPGLGATNNNSASQTTTSQETVNKRLQSVSDLSWY\n",
      "VNKSDSEPLRFGVIVPCRDFSELEDNLTMAIDRLPLARGYYGAGLTLENTVKENSQELTN\n",
      "VVNVALTSTANLDDASIVERLSECVVELREDLLEHNVRRITFIGGRLNKSAYPSYFTFRA\n",
      "SSHEQNRDGKFIRYIEDERIRHIEPALAFQLELGRLSNFDIEPVFTDNHNIHVYRATAKN\n",
      "MSTDKRFFTRALVRPGRLRDEIPTAEYLISETHSLISDILDALEVIGPDATDLNHIFINF\n",
      "TPAFGLAPKQVEAALGGFLERFGRRLWRLRVTAAEIRIICTDPETNSLFPLRVIISNVSG\n",
      "FVVNIEMYAEVKTDNGSWIFKSIGQPGSMHLRPINTPYPNKEWLQPRRYKAQLMGTTFVY\n",
      "DFPELFHRAFTNSWKNNVESADKIPADIFEYKEFVLDEKLELQEVSREPGTNSCGMVAWI\n",
      "MTAKTPEYPNGRQFIVIANDITYKIGSFGPEEDRFFFKVTEHARALGLPRIYLAANSGAR\n",
      "IGVADELVPLFNVAWVDPENPEKGFDYLYLTPETEARLCKADEKTLITEKIEENGEERYK\n",
      "ITAIVGAEEGLGVECLRGSGLIAGVTSRAYNDIWTCTLVTCRAVGIGAYLVRLGQRAVQV\n",
      "EGQPIILTGAPALNKVLGREVYTSNLQLGGTQVMHRNGVSHLTAQDDFDGISKIIEWMSY\n",
      "VPEKRNSPVPIAPCTDTWDRDVEFYPNMNGYDPRWLIAGKEEDEGFLYGLFDRNSFQETL\n",
      "NGWARTVVVGRARLGGIPLGVIAVETRCIENTVPADPANPDSTEQVLMEAGQVWYPNSAF\n",
      "KTAQAINDFNHGEQLPLFVLANWRGFSGGQRDMYNEVLKYGSYIVDALSNYQQPVFIYIP\n",
      "PHSELRGGSWVVVDPTINEDMMEMYADYESRAGVLEPEGMVSIKFRREKLLSLMRRIDPV\n",
      "YSTLSRELEKSGLSTDEQSDIRVKLMDREQKLMPIYQQISIHFADLHDRAERMLSKKVIR\n",
      "KPLHWTQARRFFYWRLRRRLDEHYSCKQLVQSIPSMTLANAKKQLRSWFEAANTEKDWEA\n",
      "DDRAVVAWIEEHPEELVSKAVELKNERHLRDVIELLTVDKTELLTGIVQVIGKLSEDEKA\n",
      "KLSEALVKP\n",
      "\n",
      ">KFH45103.1 Acetyl-CoA carboxylase-like protein [Acremonium chrysogenum ATCC 11550]\n",
      "MPELTQNGLPHRNGKASYAEKHNIADHFIGGNRLENAPPSKVKDFVAEHDGHTVITNVLI\n",
      "ANNGIAAVKEIRSVRKWAYETFGDERAIHFTVMATPEDLQANADYIRMADHYVEVPGGTN\n",
      "NHNYANVELIVDIAERMNVHAVWAGWGHASENPKLPESLAASPKKIVFIGPPGSAMRSLG\n",
      "DKISSTIVAQHARVPCIPWSGTGVDEVQIDDNDIVTVPDDVYAKGCVSSWQEGLQKAKEI\n",
      "GFPVMIKASEGGGGKGIRKAMGEEDFEALYKAAASEIPGSPIFIMKLAGNARHLEVQLLA\n",
      "DQYGNNISLFGRDCSVQRRHQKIIEEAPVTIAKPDTFKQMEDAAVRLGKLVGYVSAGTVE\n",
      "YLYSHADNKFYFLELNPRLQVEHPTTEMVSGVNLPAAQLQIAMGLPLHRIRDIRLLYGVD\n",
      "PRTSNEIDFEFKLEGIAQSQRRPTPKGHTTACRITSEDPGEGFKPSNGVMHELNFRSSSN\n",
      "VWGYFSVGTQGGIHSYSDSQFGHIFAYGENRSASRKHMVIALKELSIRGDFKTTVEYLIK\n",
      "LLQTEDFEDNTISTGWLDELISKRLTAERPDTMLAVVCGAITKAHIASEECLATYRAGLE\n",
      "KGQVPPSHILKTVFTIDFIYDGYRYKFTATRSSTGSYHLFINGSKCSVGVRALRDGGLLI\n",
      "LLDGHSHNVYWKEEVGATRLSVDSKTCLLEQENDPTQLRTPSPGKLVKYSVENGAHVRAG\n",
      "QTFAEVEVMKMHMPLVAQEDGVVQLIKPPGAGLEAGDILGILALDDPSRVKQAQPFVGKL\n",
      "PDYGQPVVVGTKPAQRFTVLYDTLYNILQGYDNSVVMASALQELIEVLRNPELPYSEWNA\n",
      "QFSALHARMPQKLDAQFTQIVERARQRQSEFPAKALSKAFHRFLEDHVAASDVETLKATL\n",
      "APLIAVVDQYIDGQKVRELNAIKSLLEAYWETETLFTNKPAEETILKLRDQNKDDIPKVV\n",
      "QIVLSHSRVSSKSSLVLAILDEYRPNRPNVGNVAKHLRETLRKLTELQYSRATSKVSLKA\n",
      "REIMIQCSLPSLEERAGQMEHILRSSVVESQYGESGWEHREPNLEIIKEVVDSKYTVFDV\n",
      "LTLFFAHDDPWVGLAALEVYVRRAYRAYILKKIEYHADDTNAPQFVSWDFNLRKIGQSEF\n",
      "GLPLQSPAPSTPPTPGEVGEADGGLGGRIRSVSDMTYVSSQMDEEPNRRGVIVPCKYIDD\n",
      "ADEVLQKALDALAPASERSEDEDAAPTLKSDLSRRRNPNAAASRPRKIHLGELSAVINVA\n",
      "VRDAESNSDQETLERLNPVVEQFKEDLLQRGVRRLTFICGHQDGSYPRYYTFRGPEYRED\n",
      "ASIRHSEPATAFQLELARLSKFNIKPVFTENKNIHVYEGIGKTVDSSDTDKRYFTRAVIR\n",
      "PGRLRDEIPTAEYLISEADRVVNDIFDALEITGNNNSDLNHIFINFTPVFQLHPREVEKS\n",
      "LQGFLDRFGARAWRLRVAQVEIRIICTDPKTSQPYPLRVIITNTSGFIVDVDIYAERKSE\n",
      "KGDWVFHSVGGTNEKGPMHLMSVSTPYATKNWLQPKRYKAHLMGTQYVYDFPELFRQAIQ\n",
      "NSWHKAAEKQPALKSQQPKSGDCLNFTELVLDDKDSLEEVNREPGTNTCGMVGWIFRART\n",
      "PEYPAGRRFIVVANDITYKIGSFGPKEDNFFYKCTELARKLGIPRIYLSANSGARLGLAE\n",
      "ELMPHFKVAWNDEEKPDAGFSYLYLDDEANERFKDSVITETISEDGERRHKIVTIVGKED\n",
      "GLGVECLRGSGLIAGATSRAYNDIFTVTLVTCRSVGIGAYLVRLGQRVVQIEGQPIILTG\n",
      "APALNNLLGREVYSSNLQLGGTQIMYRNGVSHMTANDDFEGVSRVVEWLSFVPEKRGSPV\n",
      "ALSPIVDDWDRDITYYPPQKQPYDVRWMISGKTEDDGTYLSGLFDKDSFVETLGGWARTV\n",
      "VVGRARLGGIPMGVIAVETRTVEHVVPADVAQPDSMEQVCTEAGGVWYPNSAFKTAQAIN\n",
      "DFNNGEQLPLMILANWRGFSGGQRDMYNEVLKYGSFIVDALTKFEQPIFIYIPPFGELRG\n",
      "GSWVVVDPTISPDTMEMYADAEARGGVLEPEGIVGIKYRKEKQLQTMARLDPTYADLKKQ\n",
      "LNDKSLPAETVQEVKSKMVAREKQLLPVYSQIAVQYADLHDRSGRMKAKGVIRDELEFVN\n",
      "ARRFFYWRLRRRLNEEYILKRMAASALAAPGSAHSSPAKVSELRAHNQRLLKSWSGIVNW\n",
      "DKDDRAVTEWYETERKAIGEKVDALKADKLAAEVAALVRHNMKAGWKGVREVLRVMPVEE\n",
      "REQLLKYLKD\n",
      "\n",
      ">CDS10010.1 hypothetical protein LRAMOSA02687 [Lichtheimia ramosa]\n",
      "MVEHKNLASHFLVDIQGGNSLQVASQGAVRDFVQAHEGHTVISKVLIANNGMAAMKEIRS\n",
      "VRKWAYETFGDERAIEFTVMATPEDLSVNAEYIRMADNYVEVPGGTNNNNYANVELIVDV\n",
      "AERSGVHAVWAGWGHASENPRLPEMLAQSKNKCVFIGPPASAMRSLGDKISSTIVAQHAN\n",
      "VPTMSWSGDGISQVAQTEEGHVLVEDKVYLDACVQTAEEGLASAEKIGFPVMIKASEGGG\n",
      "GKGIRKVEDAASFKQAFHQVQGEIPGSPIFIMKLAGNARHLEVQLLADQYGNAISLFGRD\n",
      "CSVQRRHQKIIEEAPVTIAKPDVFEQMEKAAVRLGKLVGYVSAGTVEYLYSHQDERFYFL\n",
      "ELNPRLQVEHPTTEMVSGVNLPAAQLQIAMGIPLHRIRDIRMLYGVQPNSASPIDFDFAN\n",
      "PTSFEVLRRPVPKGHVIAVRITAENPDAGFKPSSGMMHELNFRSSTNVWGYFSVASAGGL\n",
      "HEYADSQFGHIFAYGENRQQARKNMVMALKEISIRAAFRTTVEYIIRLLETQDFEENTIN\n",
      "TGWLDMLISTKLTAERPDPMLAVFCGAVIKAHALSQECRKQYKQSLERGQVPGKDMLKTV\n",
      "FTVDFIYEDHRYNFTVTQSAPSIYTLYLNGTKTQVGVRDLTDGGLLVSLGGKSYTTYSRD\n",
      "EVQATRLMIDGKTCLLEKESDPTQLRSPSPGKLVSLLLENGQHVKAGQAYAEIEVMKMYM\n",
      "PLMAQEDGCVQFIKQVGATLEAGDIIGVLSLDDPSRVKKTLPFAGTVPTFGPPHITGEKP\n",
      "IQRFRATKRALEYILQGYDNQALVQTAVKDLSQVLRDPQLPFSETAALMSSMSGRMPPRL\n",
      "EQSFQECLKSNNDEFPATQLLQLIESYVRENASTQAEVSTIKNQVAPLVEVFERYSKGLK\n",
      "HHEYSVYVELIEQYYVVEILFSGQQNRDEQVVLSLRDQYKDDLDKVLNITLSHAKVSSKN\n",
      "NLVLILLDLISPGVGGGLDKFFTPILKRLSDIDSRATQKVALKARELLILCQLPSYEERQ\n",
      "GQMLQILRNSVTESVYGGGIEMRTPSYDAIKDLVDTKFNVFDVLPNFFYHDEPYIALAAL\n",
      "EVYARRSYHAYKILDIAYNLEHVPYVVAWKFLMQTAPRSTDSNKRIASYSDLTFLLNNTE\n",
      "EEPVRTGAMTACRSLDEMEKQLPRILTAFEQEDLPAMMTARAGAKKHTRMENILNIAIHS\n",
      "ETTQDDAYWKHKVAQVIKQHKDAFRSAHLRRVTIVICRDNQWPDFYTFREREDYIEDETI\n",
      "RHIEPALAYQLELARLSNFDIKPCFIENRQMHVYYAVAKENPSDCRFFIRALVRPGRVKD\n",
      "SMRTADYLISESDRLLTDILDTLEIVSHDYKNSDCNHLFINFIPTFAIEADQVEHALKEF\n",
      "VDRHGKRLWKLRVTGAEIRFNIQSQRDGPDAPIIPMRFTVNNVSGYILKMDAYQEVKTEK\n",
      "GTWIHKSVGSIPGAMHMQPITTPYPTKEWLQPRRYKAHLMGTTYVYDFPELFKQAIHNQW\n",
      "VQAIKHDASLKEPKQVIEGKELVLDEDGSIQEIDRAPGTNTVGMVAWLLTLRTPEYPQGR\n",
      "RVVVIANDITFKIGSFGVAEDNVFYKASELARKLGVPRIYLSANSGARIGLADELISQFK\n",
      "AAWKDPSNPAAGFKYLYLTPDTHQAIAAQQTNGQKSVHVEEIEEDGEKRCRITDVIGYND\n",
      "GLGVENLRGSGLIAGATARAYDDIFTITLVTCRSVGIGAYLVRLGQRAVQNEGQPIILTG\n",
      "APALNKVLGREVYTSNLQLGGTQIMYKNGVSHLTAENDLEGVGKIVQWLSFVPEVRDAPV\n",
      "VTRIGIDPVDREIEYMPPKGPSDPRLFLNGKEEDGRWLSGFFDRDSFVETLSGWARTVVT\n",
      "GRARLGGIPMGVIAVETRTVENIIPADPANAESTEQVLMEAGGVWYPNSAFKTAQAINDF\n",
      "NKGEQLPLMIFANWRGFSGGQRDMYNEVLKYGAMIVDALCNYKQPVFVYLVPNGELRGGA\n",
      "WVVIDTTINQDMMEMYADTQARGGVLEPEGIVEIKYRKAQQLATMERLDERYASLKRQLE\n",
      "DSNKSTEEKNDIKKQLEAREQELLPVYQQIAIQFADLHDRAGRMQAKGVIRKPLEWRHAR\n",
      "HYFYWRVRRRLAEEYTLRKIVSTTSNRLSREQMYNLVKQWFSQDNNNDTSQWDDADRHVA\n",
      "EWFDKKASHIEQRISKLKSDTAKEQVVLLGAMDQDAVIEGFSKLMENMSPEIRKETLRKL\n",
      "ATRF\n",
      "\n",
      ">RCI05537.1 acetyl-coenzyme-A carboxylase [Rhizopus stolonifer]\n",
      "MVDHKSLPSHFLGGNSVETATQSPVKEFVEAHEGHTVISKVLIANNGMAAMKEIRSVRKW\n",
      "AYETFGNERAIEFTVMATPEDLKANAEYIRMADNYVEVPGGTNNNNYANVELIVDVAERT\n",
      "GVHAVWAGWGHASENPRLPEMLAKSKHKCLFIGPPASAMRSLGDKISSTIVAQHAQVPTM\n",
      "GWSGDNITDVVADASGHVTVPDEAYAKACVKTAEEGLAAAEKIGFPVMIKASEGGGGKGI\n",
      "RMVKDSTNFTQLFAQVQGEIPGSPIFIMKLAGNARHLEVQLLADQYGNAISLFGRDCSVQ\n",
      "RRHQKIIEEAPVTIAKPDIFEQMEKAAVRLGKLVGYVSAGTVEYLYSHHDDQFYFLELNP\n",
      "RLQVEHPTTEMVSGVNLPAAQLQIAMGIPLHRIRDIRVLYGVEHNSASEIDFNFEHPTSL\n",
      "TSHRRPTPKGHVIACRITAENPDAGFKPSSGIMQELNFRSSTNVWGYFSVVSAGGLHEYA\n",
      "DSQFGHIFAYGENRQAARKNMVIALKELSIRGDFRTTVEYIIRLLETPDFEENTINTGWL\n",
      "DMLISKKLTAKRPDTMLAVFCGAATKAHAAALECFQQYKQSLEKGQVPSKGTLKTVFTVD\n",
      "FIYEEVRYNFTVTLSAPGLYTLYLNGSKTQVGIRDLSDGGLLISIDGKSHTTYSRDEVQA\n",
      "TRLMIDGKTCLLEKESDPTQLRSPSPGKLVNLLVENGDHLKAGDAYAEIEVMKMYMPLVA\n",
      "TEDGHVQFIKQAGATLEAGDIIGILSLDDPSRVKHALPFSGTVPAFGPPHIIGDKPAQRY\n",
      "NATKHTLEHILQGYDNQALVQTVVKDFADILNDPELPYSELSAVLSVLSGRIPQRLEASI\n",
      "HKLFDESKAAQREFPAVEFLKLIEDFARENVTLQSEATALKNAVAPLVSIFERYRNGLKE\n",
      "HAYSNYVQLMEQYYDVEIMFSQQRDEEVILSLRDQNKDNLDKVLEVVLSHAKVNIKNNLI\n",
      "LMLLEIINPVATGNALDKYFTPILKRLSEIESRGTQNVTLKARELLILCQLPSYEERQAQ\n",
      "MYQILKSSVTESVYGGGTEYRTPSYDAFKDLIDTKFNVFDVLPHFFYDADPYIALAAIEV\n",
      "YCRRSYHAYKILDVAYNLEHKPYVVAWKFLLQTAATSIDPNKRIASYSDLTFLLNKTEEE\n",
      "PVRTGAMTACNSLEDLEAELPRILTAFEEEPLPPMLQRNAPPKETRMENILNIAIRADDT\n",
      "LDDAAFRTKISDVIASHADAFRQAHLRRISVVVCRDNQWPDYYTFRERENYQEDQTIRHI\n",
      "EPAMAYQLELARLSNFDIKPCFIENRQMHVYYAVAKENPSDCRFFIRALVRPGRVKSSMR\n",
      "TADYLISESDRLLTDILDTLEIVSHEYKNSDCNHLFINFIPTFAIEAEDVEHALKDFVDR\n",
      "HGKRLWKLRVTGAEIRFNVQSKRPDAPIIPMRFTVDNVSGFILKVEVYQEVKTEKNGWVL\n",
      "KSVNKIPGAMHMQPLSTPYPTKEWLQPRRYKAHLMGTTYVYDFPELFRQAVQNQWNQAIK\n",
      "HDSSLKQPSHLVEAKELVLDEDDVLQKIDRAPGTNTVGMVAWLMTIRTPEYPSGRRIIAI\n",
      "ANDITFKIGSFGVAEDQVFYKASELARSLGIPRVYLSANSGARIGLAEELIGQFKAAWKN\n",
      "PADPTAGFNYLYLTPADYDALVQQGDAKSVLVEEIQDEGETRLRITDVIGHTDGLGVENL\n",
      "KGSGLIAGATSRAYDDIFTITLVTCRSVGIGAYLVRLGQRTVQNEGQPIILTGAPALNKV\n",
      "LGREVYTSNLQLGGTQIMYKNGVSHLTAENDFEGIGKIIQWLSFVPEVRNGPVTMRMGVD\n",
      "PVDRDIEYMPPKGPSDPRFFLAGKNDENGKWLSGFFDQDSFIETLSGWARTVVVGRARLG\n",
      "GIPMGVVSVETRTVENIVPADPANSDSTEQVFMEAGGVWFPNSAYKTAQAINDFNKGEQL\n",
      "PLMIFANWRGFSGGQRDMYNEVLKYGAKIVDALSNYKQPVFVYIIPNGELRGGAWVVVDP\n",
      "TINKDMMEMYADTHARGGVLEPEGIVEIKYRKPALLATMERLDETYASLKKQLAEEGKTE\n",
      "EEKATLKTQLEAREQELLPVYQQISIQFADLHDRSGRMKAKGVIRKALDWRRARQYFYWR\n",
      "VRRRLCEEYTFRKITTATNSTMSREQMVTLVKQWFTNDNESVDFDDADEIVAEWFDKRAS\n",
      "VIEQRITKIKSDSLKQQVTSLGAVDQEAVIEGFSELLENLSQDARAEILRKLNSRF\n",
      "\n",
      ">CEP09288.1 hypothetical protein [Parasitella parasitica]\n",
      "MVDQKNLPGHFLGGNSLETAPQGPVKDFVQQHEGHTVISKVLIANNGMAAMKEIRSVRKW\n",
      "AYETFGNERAIEFTVMATPEDLKANAEYIRMADNFVEVPGGSNNNNYANVELIVDVAERT\n",
      "AVHAVWAGWGHASENPRLPEMLAKSKYRCLFIGPPASAMRSLGDKISSTIVAQSAQVPTM\n",
      "GWSGDGITETEFDEAGHVVVPEKVYNEACVKTAEEGLKAAEKIGFPVMIKASEGGGGKGI\n",
      "RMVKDGSNFAQLFAQVQGEIPGSPIFIMKLAGNARHLEVQLLADQYGNAISLFGRDCSVQ\n",
      "RRHQKIIEEAPVTIAKPDVFEQMEKAAVRLGKLVGYVSAGTVEYLYSHHDDQFYFLELNP\n",
      "RLQVEHPTTEMVSGVNLPAAQLQIAMGIPLHRIRDIRVLYGVQPNSSSEIDFGFEHPTSL\n",
      "TSHRRPTPKGHVIACRITAENPDAGFKPSSGIMQELNFRSSTNVWGYFSVVSAGGLHEYA\n",
      "DSQFGHIFAYGENRQQARKNMVIALKELSIRGDFRTTVEYIIRLLETPDFEENTINTGWL\n",
      "DMLISKKLTAERPDTMLAVFCGAVTKAHMASLECFQQYKQSLEKGQVPSKGSLKTVFTVD\n",
      "FIYEEVRYNFTVTQSAPGIYTLYLNGTKTQVGIRDLSDGGLLISIDGKSHTTYSRDEVQA\n",
      "TRMMVDGKTCLLEKESDPTQLRSPSPGKLVNLLVENGDHLNAGDAYAEIEVMKMYMPLIA\n",
      "AEDGHVQFIKQAGATLEAGDIIGILSLDDPSRVKHALPFNGTVPAFGAPHITGDKPFQRF\n",
      "NATKLTLEHILQGYDNQALVQTVVKDFADILNNPDLPYSELNSVLSALSGRIPQRLEASI\n",
      "HKLADESKAAQQEFPAAQFEKLVEDFAREHITLQSEVAAYKNSVAPLSSIFERYRNGLTE\n",
      "HAYANYVQLMEAYYDVEILFNQQREEEVILSLRDQHKDDLDKVLAVTLSHAKVNIKNNVI\n",
      "LMLLDLINPVSTGNALDKYFTPILKRLSEIDSRATQKVTLKARELLILCQLPSYEERQAQ\n",
      "MYQILKNSVTESVYGGGSEYRTPSYDAFKDLIDTKFNVFDVLPHFFYHDDPYIALAAIEV\n",
      "YCRRSYHAYKILDVAYNLEHKPYVVAWKFLLQTAATGIDSNKRIASYSDLTFLLNKTEEE\n",
      "PVRTGAMTACNSLSDLEAELPRILTAFEEEPLPPMLQRNAVPKEARMENILNIAVRADEE\n",
      "LDDTAFRTKICEMITAHADAFRHAHLRRLSIVVCRENQWPDYYTFRERENYQEDETIRHI\n",
      "EPAMAYQLELARLSNFDIKPCFIENRQMHVYYATAKENPSDCRFFIRALVRPGRVKSSMR\n",
      "TADYLISESDRLLTDILDTLEIVSHEYKNSDCNHLFINFIPTFAIEADDVEHALKDFVDR\n",
      "HGKRLWKLRVTGAEIRFNVQSKKPDAPIIPMRFTVDNVSGFILKVEVYQEVKTEKNGWIL\n",
      "KSVNKIPGAMHMQPLSTPYPTKEWLQPRRYKAHLMGTTYVYDFPELFRQSVQNQWTLAIK\n",
      "RNPLLKQPSRLVEAKELVLDEDDVLQEIDRAPGTNTVGMIAWIMTIRTPEYPSGRRIIAI\n",
      "ANDITFKIGSFGVAEDQVFYKASELARSLGIPRIYLSANSGARIGLAEELISKFRAAWED\n",
      "PCNPTAGFKYLYLTPAEYDALVQQGDAKSVLVEEIQDEGETRLRITDVIGHTDGLGVENL\n",
      "KGSGLIAGATSRAYDDIFTITLVTCRSVGIGAYLVRLGQRTVQNEGQPIILTGAPALNKV\n",
      "LGREVYTSNLQLGGTQIMYKNGVSHLTAENDLEGIAKIVQWLSFVPDVRNAPVCMRMGAD\n",
      "PIDRDIEYTPPKGPSDPRFFLAGKSENGKWLSGFFDQDSFIETLSGWARTVVVGRARLGG\n",
      "IPMGVVSVETRTVENIVPADPANSDSTEQVFMEAGGVWFPNSAYKTAQAINDFNKGEQLP\n",
      "LMIFANWRGFSGGQRDMYNEVLKYGAQIVDALSNYKQPVFVYIIPNGELRGGAWVVVDPT\n",
      "INKDMMEMYADNKARGGVLEPEGIVEIKYRKPALLATMERLDATYASLKKQLTEDGKSDQ\n",
      "DKAAIKAQVEAREQELLPVYQQISIQFADLHDRSGRMKAKGVIRKALDWRRARHYFYWRV\n",
      "RRRLCEEYSFRKIVSATSSSALTREQMYNLVKQWFTNDNESAEFEDADELVAEWFEKRAS\n",
      "VIDQRISKLKSDATKEQVISLGNAEQEAVVEGFSQLLENLSQEARAEILRKLNSRF\n",
      "\n",
      ">ORZ01680.1 acetyl-CoA carboxylase [Syncephalastrum racemosum]\n",
      "MFDKTNLPSHFLGGNAVDAAPQGAVRDFVKSHEGHTVISKVLIANNGMAAMKEIRSVRKW\n",
      "AYETFGNERAIEFTVMATPEDLKGNAEYIRMADNYIEVPGGTNNNNYANVELIVDVAERT\n",
      "GVHAVWAGWGHASENPRLPEMLAQSKHKCVFIGPPASAMRSLGDKISSTIVAQSADVPTM\n",
      "GWSGDGISETVANADGHVMVPDKVYLDACVQTAEEGLRAAEKIGYPVMIKASEGGGGKGI\n",
      "RKVEDPSNFAQAFSQVQGEIPGSPIFIMKLAGNARHLEVQLLADQYGNAISLFGRDCSVQ\n",
      "RRHQKIIEEAPVAIAKPEIFEQMEKAAVRLGKLVGYVSAGTVEYLYSHQDEKFYFLELNP\n",
      "RLQVEHPTTEMVSGVNLPAAQLQIAMGIPLHRIRDIRVLYGVQPNSASTIDFDFSTPTAL\n",
      "ESIRRPVPKGHVIAVRITAENPDAGFKPSSGTMQELNFRSSTNVWGYFSVVSAGGLHEYA\n",
      "DSQFGHIFAYGENRQAARKNMVIALKELSIRGDFRTTVEYIIRLLETQEFENNTINTGWL\n",
      "DMLISKRLTAERPDAMLAVFCGAVTKAHAASQDCWQQYKASLERGQVPGRDMLKTVFTID\n",
      "FIYEDNRYNFTVTRSAPGIYTLYLNGTKSQIGVRELSDGGLLVSIDGKSHTTYSREEVQA\n",
      "TRLMIDGKTCLLEKESDPTQLRSPSPGKLVSLLLENGEHVKGGQAYAEIEVMKMYMPLIA\n",
      "TEDGHVQFIKQVGATLEAGDIIGILSLDDPSRVKTTLPFTGQVPAFGPPHITGEKPIQRF\n",
      "HATKRVLECILQGYDNQALVQTAVKDLREVLNNPQLPYSEVAAMMSAMSGRMPPKIEQGL\n",
      "QELLQTREKPFPATEMLAVIEDFARNHVHSAAEASALKNTLGPLTEVLERYRKGLKHHEY\n",
      "SVYVELMNQYYDVEILFSGQLRDEEVILQLRDQNKDDLDKVLAIILSHAKVSSKNNLVLT\n",
      "LLDLISPAGGALDKFFLPTLKRLSEIDSRATQKVTLKARELLILCQLPSYEERHNQMYEI\n",
      "LKSSVTESVYGGGSELRTPSYDVFKDLIDTKFNVFDVLPNFFYHAEPHICLAALEVYCRR\n",
      "SYHAYKILDVAYNMEHEPFIVAWKFLLPTAARSADSNKRIASYSDLTFLLNNTEEEPVRT\n",
      "GAMTACKSLEDVEKELPRILTAFDDGSQVTPVRMENILNIAVQSSADKDNSYWQPKIAAL\n",
      "IKAHTEAFRRAHLRRITVIVCRADQMPDFYTFREREDYVEDETIRHIEPALAYQLELARL\n",
      "SNFEIKPCFVENRQMHVYYAVAKENPSDCRFFIRALVRPGRVKSSMRTADYLISESDRLL\n",
      "TDILDTLEIVSHEYKNSDCNHLFINFIPTFAIEADEVETALKEFVDRHGKRLWKLRVTGA\n",
      "EIRFNIQSKRPDAPIIPMRFTVDNVSGYILKVDVYQEVRTDKNGWVLKSVSRMPGAMHMQ\n",
      "PVSTPYPTKEWLQPRRYKAHLMGTTYVYDFPELFRQAIHNQWSQATKLDQGLKEPTVVVE\n",
      "GKELVLDEDGTLQEIERAPGTNTVGMVAWLLTLRTPEFPAGRRVVVIANDITYKIGSFGT\n",
      "AEDMVFYKASELARQLGVPRIYLSANSGARIGLADELMSQYHVAWKDAANPAAGFKYLYL\n",
      "TVAQYDQLKQNGQESCVSVETIEDEGEKRCRITDIIGLTDGLGVENLRGSGLIAGATARA\n",
      "YDDIFTITLVTCRSVGIGAYLVRLGQRAVQNEGQPIILTGAPALNKVLGREVYTSNLQLG\n",
      "GTQIMYKNGVSHLTAENDLQGVAKIVQWLSYVPAVRGGPVTMRRSLADPVEREIEYMPPK\n",
      "GPSDPRHFLAGKTDESGRWLSGFFDKDSFVETLSGWARTVVVGRARLGGIPMGVVAVETR\n",
      "TVENIVPADPANADSTEQVFMEAGGVWYPNSAFKTAQAINDFNKGEELPLMIFANWRGFS\n",
      "GGQRDMYNEVLKYGAQIVDALSNYKQPVFVYLIPNGELRGGAWVVIDPTINQDMMEMYAD\n",
      "VNARGGVLEPEGIVEIKYRKPQLLATMERLDPKYADLKKQLAEATEEDKKTELKRQVEQR\n",
      "EQELLPVFQQVAVQFADLHDRAGRMEAKGTIRKPLEWRNARQYFYFRVRRRLQEEYTIRA\n",
      "IKDKKDRQELYTLFKQWFAIDHPDADWEKDDEVVSDWFESGRPLENIQ\n",
      "\n",
      ">CDH52590.1 acetyl-carboxylase [Lichtheimia corymbifera JMRC:FSU:9682]\n",
      "MVDRTNVASHFLGGNSVQVAPQGAVRDFVQAHEGHTVISKVLIANNGMAAMKEIRSVRKW\n",
      "AYETFGDERAIEFTVMATPEDLSVNAEYIRMADNYVEVPGGTNNNNYANVELIVDVAERS\n",
      "GVHAVWAGWGHASENPRLPEMLAQSKNKCVFIGPPASAMRSLGDKISSTIVAQHANVPTM\n",
      "SWSGDGISQVAQTEDGHVLVEEKVYLDACVQTAEEGLASAEKIGFPVMIKASEGGGGKGI\n",
      "RKVEDAASFKQAFHQVQGEIPGSPIFIMKLAGNARHLEVQLLADQYGNAISLFGRDCSVQ\n",
      "RRHQKIIEEAPVTIAKPEVFEQMEKAAVRLGKLVGYVSAGTVEYLYSHQDERFYFLELNP\n",
      "RLQVEHPTTEMVSGVNLPAAQLQIAMGIPLHRIRDIRMLYGVQHNSASPIDFDFANPNSF\n",
      "EVLRRPVAKGHVIAVRITAENPDAGFKPSSGMMHELNFRSSTNVWGYFSVASAGGLHEYA\n",
      "DSQFGHIFAYGENRQQARKNMVMALKEISIRAAFRTTVEYIIRLLETQDFEENTINTGWL\n",
      "DMLISTKLTAERPDPMLAVFCGAVIKAHALSQECRKQYKQSLERGQVPGRDMLKTVFTVD\n",
      "FIYEDHRYNFTVTQSAPSIYTLYLNGTKTQVGVRDLTDGGLLVSLGGKSYTTYSRDEVQA\n",
      "TRLMIDGKTCLLEKESDPTQLRSPSPGKLVSLLLENGQHVKAGQAYAEIEVMKMYMPLLA\n",
      "QEDGCVQFIKQVGATLEAGDIIGVLSLDDPSRVKKTLPFAGTVPAFGPPHITGEKPIQRF\n",
      "RATKRALEYILQGYDNQALVQTAVKDLSQVLRDPQLPFSETAALMSSMSGRMPSRLEQSF\n",
      "QECLKANSDEFPATQLLQLIESYVHEHASTHAEVSAIKTQVSPLAEVFERYSKGLKHHEY\n",
      "SVYVELIEQYYDVEILFSGQQNRDEEVVLSLRDQHKDDLDKVLNIILSHAKVSSKNNLVL\n",
      "ILLDLISPGVGGGLDKFFTPILKQLSEIDSRATQKVALKARELLILCQLPSYEERQGQML\n",
      "QILRNSVTESVYGGGIEMRTPSYDAIKDLVDTKFNVFDVLPNFFYHDEPYIALAALEVYA\n",
      "RRSYHAYKILDVAYNLEHAPYVVAWKFLMQTATRSIDSNKRIASYSDLTFLLNNTEEEPV\n",
      "RTGAMTACHSLDEMEKELPRILTAFEEEELPAMMAARAGGATKKPARMENILNIAIRSET\n",
      "TQDDAYWKHKVAQVIKQHKDAFRRAHLRRVTIVICRANQWPDFYTFREREDYVEDETIRH\n",
      "IEPALAYQLELARLSNFDIKPCFIENRQMHVYYAVAKENPSDCRFFIRALVRPGRVKDSM\n",
      "RTADYLISESDRLLTDILDTLEIVSHEYKNSDCNHLFINFIPTFAIEADQVEHALKEFVD\n",
      "RHGKRLWKLRVTGAEIRFNIQSQRDGPDAPIIPMRFTVNNVSGYILKMDAYQEAKTDKGT\n",
      "WIHKSVGSIPGAMHMQPITTPYPTKEWLQPRRYKAHLMGTTYVYDFPELFKQAIHNQWIQ\n",
      "AIAQDPSLKEPNHVIEGKELVVDEEDGSIQEIDRAPGTNTVGMIAWLLTLRTPEYPKGRR\n",
      "VVVIANDITFKIGSFGVAEDTFFYKASELARSLGIPRIYLSANSGARIGLADELISQFKA\n",
      "AWKDPANPAAGFKYLYLTPETYQSIAAQQSNGQKSVNVEEIEEDGEKRCRIIDVIGYNDG\n",
      "LGVENLRGSGLIAGATSRAYDDIFTITLVTCRSVGIGAYLVRLGQRAVQNEGQPIILTGA\n",
      "PALNKVLGREVYTSNLQLGGTQIMYKNGVSHLTAENDLEGVVKIVQWLSFVPEVRDAPVV\n",
      "TRIGADPVDREIEYMPPKGPSDPRLFLNGKEEEGGRWLSGFFDRNSFVETLSGWARTVVT\n",
      "GRARLGGIPMGVVAVETRTVENIIPADPANAESTEQVLMEAGGVWYPNSAFKTAQAINDF\n",
      "NKGEQLPLMIFANWRGFSGGQRDMYNEVLKYGAKIVDALTNYKQPVFVYLIPNGELRGGA\n",
      "WVVIDPTINEDMMEMYADKEARGGVLEPEGIVEIKYRKAQQLATMERLDEQYASLKRQLE\n",
      "DPSKSTEEKNDIKKQLEAREQELLPVYQQIAIQFADLHRSEDRAGRMEAKGVIRKPLEWR\n",
      "HARHYFYWRVRRRLAEEYTLRKIVSATNNRLPREQMCNLMKQWFGQDNNNDTSQWDNADR\n",
      "QVAEWFDNYATPIEQRINKLKRDTTKEQVVLLGAMDQDAVIEGFSKLIENMSPEARKETL\n",
      "RKLASRF\n",
      "\n",
      ">KDE05599.1 acetyl-CoA carboxylase [Microbotryum lychnidis-dioicae p1A1 Lamole]\n",
      "MDAIKSVLSGGSSHQSTNGTTASTGSAPTQQAASSSAAAIAAPAPDAHAAEHAKVQHFIG\n",
      "GHSLDVAAPSRVADFVRSRGGHTVITKVLIANNGIAAVKEIRSIRKWAYETFGSERAIEF\n",
      "TVMATPEDLKVNADYIRMADQYVEVPGGTNNNNYANVDVIVDVAERAAVHAVWAGWGHAS\n",
      "ENPRLPESLAASKQKIVFIGPPGSAMRSLGDKISSTIVAQSAQVPCMDWSGTGVEETVMS\n",
      "PDGYVTVADDVYAQACVSGAEDGLVKAEKIGYPVMIKASEGGGGKGIRMVAKSEDFKQSF\n",
      "GAVQGEVPGSPIFIMKLAGAARHLEVQVLADQYGNAISLFGRDCSVQRRHQKIIEEAPVT\n",
      "IAGPEKFEQMEKAAVRLAKLVGYVSAGTTEFLYSAADDNFYFLELNPRLQVEHPTTEMVS\n",
      "GVNLPAAQLQIAMGIPLHRIRDIRTLYGKSPHGESKIDFDFEDPTSAETQRKPSPKGHVV\n",
      "AVRITAENPDAGFKPSSGTLQELNFRSSTNVWGYFSVAAAGGLHEFADSQFGHIFAYGSD\n",
      "RSEARKNMVVALKELSIRGDFRTTVEYLIKLLETEAFESNTITTAWLDNLISERLTAERP\n",
      "DTTLAIICGAVAKAHLATEANIAEYKRVLEKGQSPARELLATVVPLEFVLEDVKYRATAS\n",
      "RSSPTSWSIYINGSSVSVGLRPLADGGLLVLLDGRSYTCYGKEEVGALRLSIDSRTVLVA\n",
      "QENDPTQLRSPSPGKLVRYFIESGEHVSKGQAYAEIEVMKMIMPLIAAEDGIAQFIKQPG\n",
      "VTLEAGAIIGILSLDDPSRVNHAKPFDGQLPQLGLPSIVGTKPHQRFAYLRDILGNILAG\n",
      "YDNQSIMQPTIKELITVLRNPELPYGEAHAVLSTLGGRMPAALEASVRQTIEAAHVNKAE\n",
      "FPSAKVRKQIEAALEASRPAEAASLRLTLGSLLDIVERYRGGLKGHEWLTVASVMNAYLE\n",
      "TEKLFSGREDDVVLELRDTHRDDLDVVVRAVLSHYKAASKNALILALLELVKESSESLQV\n",
      "IEATFAPVLKELADLDSKATSKVSLKAREVLIHCQLPSLDERLVQLEQILKASVTQTTYG\n",
      "ESAVVPRAPRADILKDVIDSRFTVFDVLPTFFRHADQWVGLAALEMYVRRAYKAYNIINI\n",
      "EHVESDEAESEPSTVFWTFRMRKAGGESGPVTPSTGLTSQRTASYSDLTFLLSRAQEEPI\n",
      "RYGSMFATASLNNLAHELKTVLAHYPSTATNPAEPLVSSQSNWNVCNVSLNVSPSTTVAD\n",
      "EDHLRTQFAELINSMSNELDRRSMRRVTLLICREGYYPSYFTLRKDAGMWKELSTIRDIE\n",
      "PALAWQLELARLSNFHLTPTPTENRQVHIYYAVAKENSGDCRFFVRALVRPGPLRGNMRT\n",
      "LDYLVSESDRLVADVLDTLEVVSATRRTADGNHISLNFIYSLRLDFEDVQTALAGFIDRH\n",
      "GKRFWRLRVTGAEIRMVIEDAQGNIQPIRAIIENVSGFVVKYEAYREVTTEKGIVILKSI\n",
      "GPQGALHLQPVNFPYPTKEWLQPKRYRAHVVGTTYAYDFPDLFRQAIRKQWKAASRNAPS\n",
      "DPLVAKELVLDEFGNPQEVARAPGTNNIGMVGWIYTILTPEYPAGRRIVVIANDITFKIG\n",
      "SFGPEEDKFFHAVTRLARRLGLPRIYLSANSGARLGIADELVELISAAWNDPARPEKGFK\n",
      "YLYITPEKLGELQNKGEKSVITKKVVDEATGETQYQITDIIGLQDGLGVESLKGSGLIAG\n",
      "ETSRAYDDIFTITLVTARSVGIGAYLVRLGQRAIQVEGQPIILTGAGALNKVLGREVYSS\n",
      "NLQLGGTQIMYKNGVSHLTAANDLEGVLSIVKWLAYVPSAKGAPLPISPSVDTWDRAIDY\n",
      "QPIKGAYDPRWFLAGKADETDGRWLSGFFDKDSFQETLSGWAQTVVVGRARLGGIPIGTI\n",
      "AVETRTVERVVPADPANPSSMEQRIMEAGQVWYPNSAFKTGQAIFDFNREGLPLIIFANW\n",
      "RGFSGGQQDMFDEVLKRGSLIVDGLSTYNQPAFVYIVPNGELRGGAWVVLDPTINADGMM\n",
      "EMYADESARAGVLEPEGIVEIKLRKDKLVAMMERLDEPYRTLKAKTVDASLSAADVTAAK\n",
      "NELANREKILMPLYSQIALQFADLHDRPARMKAKGAIRDTLVWSESRRYFYQRLLRRLAE\n",
      "EDALKRLAVADPTLSREARVDIVKAAINESQADYENDPAVTSALEQHKAKIASRVKDVRS\n",
      "NAMADVVAAMTKEDGQGVLEGLKRALGEKLSSDDVATLQRILQI\n",
      "\n",
      ">SGZ26149.1 BQ5605_C024g09846 [Microbotryum silenes-dioicae]\n",
      "MDAIKSVLSGGSSHQSTNGTTASTGSAPTQQAASSSAAAIAAPAPDAHAAEHAKVQHFIG\n",
      "GHSLDVAAPSRVADFVRSRGGHTVITKVLIANNGIAAVKEIRSIRKWAYETFGSERAIEF\n",
      "TVMATPEDLKVNADYIRMADQYVEVPGGTNNNNYANVDVIVDVAERAAVHAVWAGWGHAS\n",
      "ENPRLPESLAASKQKIVFIGPPGSAMRSLGDKISSTIVAQSAQVPCMDWSGTGVEETVMS\n",
      "PDGYVTVADDVYAQACVSGAEDGLVKAEKIGYPVMIKASEGGGGKGIRMVAKSEDFKQSF\n",
      "GAVQGEVPGSPIFIMKLAGAARHLEVQVLADQYGNAISLFGRDCSVQRRHQKIIEEAPVT\n",
      "IAGPEKFEQMEKAAVRLAKLVGYVSAGTTEFLYSAADDNFYFLELNPRLQVEHPTTEMVS\n",
      "GVNLPAAQLQIAMGIPLHRIRDIRTLYGKSPHGESKIDFDFEDPTSAETQRKPSPKGHVV\n",
      "AVRITAENPDAGFKPSSGTLQELNFRSSTNVWGYFSVAAAGGLHEFADSQFGHIFAYGSD\n",
      "RSEARKNMVVALKELSIRGDFRTTVEYLIKLLETEAFESNTITTAWLDNLISERLTAERP\n",
      "DTTLAIICGAVAKAHLATEANIAEYKRVLEKGQSPARELLATVVPLEFVLEDVKYRATAS\n",
      "RSSPTSWSIYINGSSVSVGLRPLADGGLLVLLDGRSYTCYGKEEVGALRLSIDSRTVLVA\n",
      "QENDPTQLRSPSPGKLVRYFIESGEHVSKGQAYAEIEVMKMIMPLIAAEDGIAQFIKQPG\n",
      "VTLEAGAIIGILSLDDPSRVNHAKPFDGQLPQVGLPSIVGTKPHQRFAYLRDILGNILAG\n",
      "YDNQSIMQPTIKELITVLRNPELPYGEAHAVLSTLGGRMPAALEASVRQTIEAAHVNKAE\n",
      "FPSAKVRKQIEAALEASRPAEAASLRLTLGSLLDIVERYRGGLKGHEWLTVASVMNAYLE\n",
      "TEKLFSGREDDVVLELRDTHRDDLDVVVRAVLSHYKAASKNALILALLELVKESSESLQV\n",
      "IEATFAPVLKELADLDSKATSKVSLKAREVLIHCQLPSLDERLVQLEQILKASVTQTTYG\n",
      "ESAVVPRAPRADILKDVIDSRFTVFDVLPTFFRHADQWVGLAALEMYVRRAYKAYNIINI\n",
      "EHVESDEAESEPSTVFWTFRMRKAGGESGPVTPSTGLTSQRTASYSDLTFLLSRAQEEPI\n",
      "RYGSMFATASLNNLAHELKTVLAHYPSTATNPAEPLVSSQSNWNVCNVSLNVSPSTTVAD\n",
      "EDHLRTQFAELINSMSNELDRRSMRRVTLLICREGYYPSYFTLRKDAGMWKELSTIRDIE\n",
      "PALAWQLELARLSNFHLTPTPTENRQVHIYYAVAKENSGDCRFFVRALVRPGPLRGNMRT\n",
      "LDYLVSESDRLVADVLDTLEVVSATRRTADGNHISLNFIYSLRLDFEDVQTALAGFIDRH\n",
      "GKRFWRLRVTGAEIRMVIEDAQGNIQPIRAIIENVSGFVVKYEAYREVTTEKGIVILKSI\n",
      "GPQGALHLQPVNFPYPTKEWLQPKRYRAHVVGTTYAYDFPDLFRQAIRKQWKAASRNAPS\n",
      "DPLVAKELVLDEFGNPQEVARAPGTNNIGMVGWIYTILTPEYPAGRRIVVIANDITFKIG\n",
      "SFGPEEDKFFHAVTRLARRLGLPRIYLSANSGARLGIADELVELISAAWNDPARPEKGFK\n",
      "YLYITPEKLGELQNKGEKSVITKKVVDEATGETQYQITDIIGLQDGLGVESLKGSGLIAG\n",
      "ETSRAYDDIFTITLVTARSVGIGAYLVRLGQRAIQVEGQPIILTGAGALNKVLGREVYSS\n",
      "NLQLGGTQIMYKNGVSHLTAANDLEGVLSIVKWLAYVPSAKGAPLPISPSVDTWDRAIDY\n",
      "QPIKGAYDPRWFLAGKADETDGRWLSGFFDKDSFQETLSGWAQTVVVGRARLGGIPIGTI\n",
      "AVETRTVERVVPADPANPSSMEQRIMEAGQVWYPNSAFKTGQAIFDFNREGLPLIIFANW\n",
      "RGFSGGQQDMFDEVLKRGSLIVDGLSTYNQPAFVYIVPNGELRGGAWVVLDPTINADGMM\n",
      "EMYADESARAGVLEPEGIVEIKLRKDKLVAMMERLDEPYRTLKAKTVDASLSAADVTAAK\n",
      "NELANREKILMPLYSQIALQFADLHDRPARMKAKGAIRDTLVWSESRRYFYQRLLRRLAE\n",
      "EDALKRLAVADPTLSREARVDIVKAAINESQADYENDPAVTSALEQHKAKIASRVKDVRS\n",
      "NAMADVVAAMTKEDGQGVLEGLKRALGEKLSSDDVATLQRLLQI\n",
      "\n",
      ">POY75327.1 putative Acetyl-CoA carboxylase, partial [Rhodotorula taiwanensis]\n",
      "GNSLEVAPPSKVADFVRERGGHTVITKILIANNGIAAVKEIRSVRKWAYETFGSEHAVEF\n",
      "VVMATPEDLKVNADYIRMADQYVEVPGGTNNNNYANVDVIVDVAERAGVHAVWAGWGHAS\n",
      "ENPRLPESLAASKHKIVFIGPPGSAMRSLGDKISSTIVAQHAKVPCMDWSGQGVDQVINS\n",
      "EDGYVTVEDDVYQKACIHDAEEGLVCAQRIGFPIMIKASEGGGGKGIRKVDREADFKQSY\n",
      "QAVLTEVPGSPVFIMKLAGAARHLEVQVIADQYGNAISLFGRDCSVQRRHQKIIEEAPVT\n",
      "IAGPDRFEQMEKSAVRLAKLVGYVSAGTVEFLYSAGDDSFAFLELNPRLQVEHPTTEMVS\n",
      "GVNLPAAQLQIAMGIPLDRIRDIRTLYGKSPHGKSSIDFDFENPESSKTQRKPSPKGHVV\n",
      "AVRITAENPDAGFKPSMGTLQELNFRSSTNVWGYFSVGSAGGLHEFADSQFGHIFAYGSD\n",
      "RSESRKNMVVALKELSIRGDFRTTVEYLIKLLETQAFEENTITTAWLDQLISARLTAERP\n",
      "DTTLAIICGAATKAHLATEANIAEYKRILDKGQSPAKELLATVVPLEFVLEDVKYRATAS\n",
      "RSSPTSWSIYVNGSSVAVGIRPLADGGLLILLDGRSYTCYAKEEVGALRLSIDSRTVLIA\n",
      "QENDPTQLRSPSPGKLVRYFIESGEHVSKGEAYAEIEVMKMIMPLIAAEDGIAQLIKQPG\n",
      "ATLAAGDILGILSLDDPSRVHHAKPFDGQLPQLGLPNIVGNKPYQRFAYLKEVLANILAG\n",
      "YDNQSIMQSSIKELIAVLRNPELPYGEAGAVLSTLNGRIPARLEALLRQAIDEAHAAGAE\n",
      "FPSAKCRKLIDQALEPLRASEAQTIRNFLVAFEDVVFRYRGGLKHHEWSTIAGIFAAYAA\n",
      "TEKPFSGRDDDVVLELREANRDALDTVVSIVLSHYKAASKNTLVLALLDLVKECDADPAV\n",
      "ETVVSPVLKSLAELDSKATTKVALKAREVLIHTQLPSLDERLGQLEQILRASVTPTVYGE\n",
      "VAPTDRAPRSEILKDVIDSRFTVFDVLPAFFQHQDQWVALAALEVYVRRAYRSYNVLNLE\n",
      "HIEADANEDEPASIAWAFRMRKAASESEPPTPSTGLTSQRAASYSDLTYLLNQAQSEPIR\n",
      "YGAMFSISSFNRIREELQSVLRHFPDAGKGKIDQQQSSSSQEQWNVLNVALTVRGRAADV\n",
      "DEDALRAEFADHINSMSAEFERRGMRRITLLICREGQYPSYYTIRKQDNAWKELETIRDI\n",
      "EPALAFQLELGRLSNFNLEPCPVENRQIHIYYATAKGNSSDCRFFVRALVRPGRLRGTMR\n",
      "TADYLVSESDRLVTDVLDTLEVVSAQRRSADGNHISLNFLYSLRLDFEEVQTALAGFIDR\n",
      "HGKRFWRLRVTGAEIRIVLEDAHGNIQPIRAIIENVSGFVVKYEAYREVTTDKGQVILKS\n",
      "IGPQGAFHLQPVNFPYPTKEWLQPKRYKAHVVGTTYVYDFPDLFRQAIRRQWKLAGKTAP\n",
      "AEPLVATELVLDEFGKPQEVSRPPGTNNIGMVGWIYTIRTPECPQGRRVVVIANDITYKI\n",
      "GSFGPEEDQYFFAVTEVARKLGLPRIYLSANSGARLGIAEELVDKFDVAWVDASRPEKGF\n",
      "KYLYLTAEKLGELKNQGEKSVITKKIEDEGETRYQITDIIGLQDGLGVESLRGSGLIAGE\n",
      "TSRAYDDIFTITLVTARSVGIGAYLVRLGQRAVQVEGQPIILTGAGALNKVLGREVYSSN\n",
      "LQLGGTQIMYKNGVSHLTAPNDLEGVQSIIRWLGYVPAVRGAMLPLMPSEDSWDRPVDYT\n",
      "PIKGAYDPRWFLAGKTDEADGRWLSGFFDKDSFQETLSGWAQTVVVGRARLGGIPMGAIA\n",
      "VETRTIERVVPADPANPLSNEQKIMEAGQVWYPNSAFKTGQAIFDFNREGLPLIIFANWR\n",
      "GFSGGQQDMFDEVLKRGSLIVDGLSAYKQPVFVYIVPNGELRGGAWVVLDPAINAEGMME\n",
      "MYVDETARAGVLEPEGIVEIKLRKDKLIGLMDRLDPTYRELKAKSTDASVSPADAAQAKT\n",
      "DLAAREKQLMPLYQQIALQFADSHDRAGRILAKGCARDKINWAESRRYFYARLKRRLLEE\n",
      "DAVKRLGVANPTLSRAERLDIVHSTLGNAELTDDFAAARALEANSGSIAERVKSARADTI\n",
      "ASSVAKLAAEDKEAFAAALQQVLGDKLNAADLARILA\n",
      "\n",
      ">KWU41533.1 hypothetical protein RHOSPDRAFT_36903 [Rhodotorula sp. JG-1b]\n",
      "MPYSGEANGVANGRTDGDEATHQYDHSRVQKYFGGNSLETAPPSKVADFVRERGGHTVIT\n",
      "KILIANNGIAAVKEIRSVRKWAYETFGSERAIEFVVMATPEDLKVNADYIRMADQYVEVP\n",
      "GGTNNNNYANVDVIVDVAERAGVHAVWAGWGHASENPRLPESLAASKHKIVFIGPPGSAM\n",
      "RSLGDKISSTIVAQHAQVPCMDWSGQGVDQVITAEDGYVTVEDDIYHKACVHDAEEGLVC\n",
      "AQRIGFPIMIKASEGGGGKGIRKVDREADFKQSYQAVLTEVPGSPVFIMKLAGAARHLEV\n",
      "QVIADQYGNAISLFGRDCSVQRRHQKIIEEAPVTIAGPDRFEQMEKSAVRLAKLVGYVSA\n",
      "GTVEFLYSAGDDSFAFLELNPRLQVEHPTTEMVSGVNLPAAQLQIAMGIPLDSIRDIRTL\n",
      "YGKSPHGKSRVDFDFESPESSKTQRKPSPKGHVVAVRITAENPDAGFKPSMGTLQELNFR\n",
      "SSTNVWGYFSVGSAGGLHEFADSQFGHIFAYGSDRSESRKNMVVALKELSIRGDFRTTVE\n",
      "YLIKLLETQAFEENTITTAWLDQLISARLTAERPDTTLAIICGAATKAHLATEANIAEYK\n",
      "RILDKGQSPPKELLATVVPLEFVLEDVKYRATASRSSPTSWSIYVNGSSVSVGIRPLADG\n",
      "GLLVLLDGRSYTCYAKEEVGALRLSIDSRTVLIAQENDPTQLRSPSPGKLVRYFIESGEH\n",
      "VSKGEAYAEIEVMKMIMPLIAAEDGIAQLIKQPGATLAAGDILGILSLDDPSRVHHAKPF\n",
      "DGQLPQLGLPNIVGNKPFQRFAYLKEVLANILAGYDNQSIMQSSMKELIAVLRNPELPYG\n",
      "EAGAVLSTLSGRIPARLEASLRQAIDDAHATGAEFPSAKCRKLIDQALEPLRATEAQTIR\n",
      "NFLVSFEDVVFRYRGGLKHHEWSTIAGIFAAYAATEKPFSGRDDDVVLELRDAHRDSLDT\n",
      "VVSIVLSHYKAASKNTLVLALLDLVKECDALPIVETIVSPVLKSLAELDSKATTKVALKA\n",
      "REVLIHTQLPSLEERLGQLEQILRASVTPTVYGEHAPNDRAPRAEILKDVIDSRFTVFDV\n",
      "LPAFFQHQDQWVALAALEVYVRRAYRSYSLLNLEHVEADANEDEPATVAWAFRMRKAASE\n",
      "SEPPTPTTGLTSQRAASYSDLTYLLNQAQSEPIRYGAMFSISSFRRIRQELQSVLRHFPD\n",
      "AGKGKLDQQPASSSQEKWNVLNVALTVPSGVDVDEDALRAEFAEHINSMSADFERRGMRR\n",
      "ITLLICREGQYPSYYTIRKQDGAWKELETIRDIEPALAFQLELGRLSNFNLEPCPVENRQ\n",
      "IHIYYATAKGNSSDCRFFVRALVRPGRLRGSMRTADYLVSESDRLVTDVLDTLEVVSAQR\n",
      "RSADGNHISLNFLYSLRLDFEEVQTALAGFIDRHGKRFWRLRVTGAEIRIVLEDAHGNIQ\n",
      "PIRAIIENVSGFVVKYEAYREVSTDKGQVILKSIGPQGAFHLQPVNFPYPTKEWLQPKRY\n",
      "KAHVVGTTYVYDFPDLFRQAIRRQWKLAGKTAPAEPLVAKELVLDEFGTPQEVSRPPGTN\n",
      "NIGMVGWIYTIYTPECPQGRRIVVIANDITFKIGSFGPDEDRYFFAVTEVARKLGLPRVY\n",
      "LSANSGARLGIAEELVDKFDVAWVDASRPEKGFKYLYLTAEKLGELKNQGEKSVITQKIE\n",
      "DEGEVRYQITDVIGLQDGLGVESLKGSGLIAGETSRAYDDIFTITLVTARSVGIGAYLVR\n",
      "LGQRAVQVEGQPIILTGAGALNKVLGREVYSSNLQLGGTQIMYKNGVSHLTAPNDLEGVL\n",
      "SIVRWLGYVPASRGAMLPIMPSVDSWDRPIDYTPIKGAYDPRWFLAGKTDEADGRWLSGF\n",
      "FDKDSFQETLSGWAQTVVVGRARLGGIPMGAIAVETRTIERIVPADPANPLSNEQKIMEA\n",
      "GQVWYPNSAFKTGQAIFDFNREGLPLIIFANWRGFSGGQQDMFDEVLKRGSLIVDGLSAY\n",
      "KQPVFVYIVPNGELRGGAWVVLDPSINAEGMMEMYVDETARAGVLEPEGIVEIKLRKDKL\n",
      "IALMDRLDPTYRELKAKSTDASLSSADAAQAKADLSAREKQLMPLYQQIALQFADSHDRA\n",
      "GRILAKGCARDKVSWTESRRYFYARLQRRLLEEDAVRRLGVANPTLSRAQRLAIIHETLG\n",
      "DAELTNDFAAARALEANAASIAERVKSARADTIASSVAELAAEDKEAFVAALQQVLGDKL\n",
      "SAADLARILA\n",
      "\n",
      ">XP_018270360.1 hypothetical protein RHOBADRAFT_37308 [Rhodotorula graminis WP1]\n",
      "MPFSGVTGATNGASVPAGDADEYEWDHSKVGHFIGGNSLESAPPSRVANWVRSRGGHTVI\n",
      "TKILICNNGIAAVKEIRSVRKWAYETFGSERAIEFVVMATPEDLRVNADYIRMADQYVEV\n",
      "PGGTNNNNYANVDVIVDVAERTGVHAVWAGWGHASENPRLPESLAASKHKIVFIGPPGSA\n",
      "MRSLGDKISSTIVAQHAKVPCMDWSGTGIDEVTTTDDGLVTVTDEVYQKACVHDADEGLE\n",
      "RAAKIGYPVMIKASEGGGGKGIRMVSKDADFKQSFQAVLTEVPGSPVFIMKLAGAARHLE\n",
      "VQVLADQYGNAISLFGRDCSVQRRHQKIIEEAPVTIAGPERFEEMEKSAVRLAKLVGYVS\n",
      "AGTTEFLYSAADDKFAFLELNPRLQVEHPTTEMVSGVNLPAAQLQIAMGIPLHRIRDIRT\n",
      "LYGKSPHGRSLIDFDFENPESTKTQRKPAPKGHVVAVRITAENPDAGFKPSMGTLQELNF\n",
      "RSSTNVWGYFSVGSAGGLHEFADSQFGHIFAYGSDRGESRKNMVVALKELSIRGDFRTTV\n",
      "EYLIKLLETEAFEDNTITTAWLDNLISMRLTAERPDTTLAIICGAATKAHLASEANVAEY\n",
      "KRILEKGQTPAKELLATVVPLEFVIEDVKYRATASRSSPTTWSIYVNGSSVAVGVRPLAD\n",
      "GGLLVLLDGRSYTCYAKEEVGALRLSIDSRTVLIAQENDPTQLRSPSPGKLVRYFIESGE\n",
      "HISKGEAYAEIEVMKMIMPLIAAEDGIAQFIKQPGATLEAGDILGILSLDDPSRVNHAKP\n",
      "FDGQLPQLGLPSIIGNKPHQRFAYLKEVLGNILAGYDNQSIMQASIKELVQVLQTPELPY\n",
      "GEANAVLSTLSGRIPAKLEQALRQSIDSAAAGGAEFPSPKLRKLIDSCLDELRPTEAQTI\n",
      "RNFLVAFDDIVYRYRAGLKHHEWATLAGLLGLYAETEKPFSARDNDVVLELRELYRDAPD\n",
      "TVVKLVLSHYKAASKNTLALALLDIVKGSDTIPLVEEVVSPVLKELAELDSKATTKVSLK\n",
      "AREVLIHTQLPSLDERLHQLESILKASVTTTVYGAVGPSDRTPRGDVLRDVIDSRFTVFD\n",
      "VLPGFFQHQDQWVALAALDTYVRRAYRSYNLINLEHVEADAAEDEPSTVAWSFRMRKAAS\n",
      "ESAPTTPTTGLTSQRTASYSDLTFLLNQAQSEPIRYGAMFSIKSLDNLERELTAVMRHFP\n",
      "DSGRGKIEQAPQAQSSQDSWNVVNVALTVPGQAHDLDEDALRAQFAHVINALSGQMDRHG\n",
      "MRRLTLLICREGQYPSYYTLRKQDGQWKELETIRDIEPALAFQLELGRLSNFNLEPCPVE\n",
      "NRQIHIYYATAKGNSSDCRFFVRALVRPGRLRGSMKTADYLVSESDRLITDVLDTLEVVS\n",
      "AQRRAADGNHISLNFLYSLRLDFEEVQTALAGFIDRHGKRFWRLRVTGAEIRIVIEDAQG\n",
      "NIQPIRAIIENVSGFVVKYEAYREVTTDKGQVILKSIGPQGAFHLQPVNFPYPTKEWLQP\n",
      "KRYKAHVVGTTYAYDFPDLFRQAIRKQWKAVGKTAPAEPLVAKELVLDEFGVPQEVARPP\n",
      "GTNNIGMVGWVFTICTPEYPSGRRVVAIANDITFKIGSFGPDEDRYFFAVTELARKLGLP\n",
      "RIYLSANSGARLGIADELVDQFSVAWIDASRPEKGFKYLYLTPEKLGELNNKGDKSVITT\n",
      "KVDEDGETRYQITDIIGLQDGLGVESLKGSGLIAGETSRAYDDIFTITLVTARSVGIGAY\n",
      "LVRLGQRAVQVEGQPIILTGAGALNKVLGREVYSSNLQLGGTQIMYKNGVSHLTAANDLE\n",
      "GVLSIVQWLSFVPESRGAPLPILPSVDSWDRTIEYQPIKGAYDPRWFLAGKTDETDGRWL\n",
      "SGFFDKGTFQETLSGWAQTVVVGRARLGGIPFGAIAVETRTVERIVPADPANPLSNEQKI\n",
      "MEAGQVWYPNSAFKTGQAIADFNREGLPLIIFANWRGFSGGQQDMFDEVLKRGSLIVDGL\n",
      "SAYKQPVFVYIVPNGELRGGAWVVLDPSINNNGMMEMYVDETARAGVLEPEGIVEIKLRK\n",
      "DKILALMDRLDPTYHSLKAKSTDASLSPADAASVKTDLAAREKVLLPLYQQIALQFADQH\n",
      "DRAGRILAKGCARDSIVWSEARRYFYLRAKRRILEEAAITRIAAANPSLSREDKLAYLAQ\n",
      "VIPADVDLSSDAAVADALEKAASDITATVRTARTSAIAAQIASLATEDGAAFAEGLRAAL\n",
      "GDKLDAETVAKLQQVLSQ\n",
      "\n",
      ">SCV70467.1 BQ2448_1861 [Microbotryum intermedium]\n",
      "MDAIKSVLSGGSSHQSTNGTTASTAGSAPTQQAAAPSGSSPPSAAAPAPDAHAAEHAKVQ\n",
      "HFIGGHSLDVAAPSRVADFVRSRGGHTVITKVLIANNGIAAVKEIRSIRKWAYETFGSER\n",
      "AIEFTVMATPEDLKVNADYIRMADQYVEVPGGTNNNNYANVDVIVDVAERAAVHAVWAGW\n",
      "GHASENPRLPESLAASKQKIVFIGPPGSAMRSLGDKISSTIVAQSAQVPCMDWSGTGVEE\n",
      "TVMSPDGYVTVADDVYAQACVSGAEDGLVKAEKIGYPVMIKASEGGGGKGIRMVAKSEDF\n",
      "KQSFGAVQGEVPGESSARASHRIEEHFVLKRLSCAQTGSPIFIMKLAGAARHLEVQVLAD\n",
      "QYGNAISLFGRDCSVQRRHQKIIEEAPVTIAGPEKFEQMEKAAVRLAKLVGYVSAGTTEF\n",
      "LYSAADDKFYFLELNPRLQVEHPTTEMVSGVNLPAAQLQIAMGIPLHRIRDIRTLYGKSP\n",
      "HGESKIDFDFEDPVSAETQRKPSPKGHVVAVRITAENPDAGFKPSSGTLQELNFRSSTNV\n",
      "WGYFSVAAAGGLHEFADSQFGHIFAYGSDRSEARKNMVVALKELSIRGDFRTTVEYLIKL\n",
      "LETEAFESNTITTAWLDNLISERLTAERPDTTLAIICGAVAKAHLATEANIAEYKRVLEK\n",
      "GQSPARELLATVVPLEFVLEDVKYRATASRSSPTSWSIYINGSSVSVGLRPLADGGLLVL\n",
      "LDGRSYTCYAKEEVGALRLSIDSRTVLVAQENDPTQLRSPSPGKLVRYFIESGEHVSKGQ\n",
      "AYAEIEVMKVSYHGSEGGTKDRRVLTLPCPSPSNQMIMPLIAAEDGIAQFIKQPGVTLEA\n",
      "GAIIGILSLDDPSRVNHAKPFDGQLPQLGLPSIVGNKPHQRFAYLRDILGNILAGYDNQS\n",
      "IMQPTIKELITVLRNPELPYGEAHAVLSTLGGRMPAALEASVRQTIEAAHANKAEFPSVK\n",
      "VRKQIDAALEASRPAEAASLRLTLGSLLDIVERYRGGLKGHEWLTLASIMNAYLETEKLF\n",
      "SGREDDVVLELRDTHRDELDVVVRAVLSHYKAASKNALILALLELVKDSSESLQVIEATF\n",
      "APVLKELADLDSKATSKVALKAREVLIHCQLPSLDERLVQLEQILKASVTQTTYGESAVV\n",
      "PRAPRAEILKDVIDSRFTVFDVLPTFFRHADQWVGLAALEMYVRRAYKAYNIINVEHVES\n",
      "DEAESEPSTVFWTFRMRKAGGESGPVTPSTGLTSQRTASYSDLTFLLSRAQEEPIRHGAM\n",
      "FATASLNNLAHELKTVLRHYPSTATNPAEPLVSSQSNWNVCNVSLNVSPSTTVSDEDQLR\n",
      "AQFAELINSMSDELDRRSMRRVTLLICREGYYPSYFTLRKDAGVWKELSTIRDIEPALAW\n",
      "QLELARLSNFHLTPTPTENRQVHIYYAVAKENSGDCRFFVRALVRPGPLRGNMRTLDYLV\n",
      "SESDRLVADVLDTLEVVSASRRAADGNHISLNFIYSLRLDFEDVQTALAGFIDRHGKRFW\n",
      "RLRVTGAEIRMVIEDAQGNIQPIRAIIENVSGFVVKYEAYREVTTEKGIVILKSIGPQGA\n",
      "LHLQPVNFPYPTKEWLQPKRYRAHVVGTTYAYDFPDLFRQAIRKQWKAAGKTAPSDPLVA\n",
      "KELVSDEFGNPQEVARAPGTNNIGMVGWIYTIFTPEYPSGRRIVVIANDITFKIGSFGPE\n",
      "EDKFFHAVTRLARQLGLPRIYLSANSGARLGIADELVDLISAAWNDPARPEKGFKYLYIT\n",
      "PEKFGELKNKGEKSVVTKKVVDEVTGETQYQITDIIGLQDGLGVESLKGSGLIAGETSRA\n",
      "YDDIFTITLVTARSVGIGAYLVRLGQRAIQVEGQPIILTGAGALNKVLGREVYSSNLQLG\n",
      "GTQIMYKNGVSHLTAANDLEGVLSIVKWLAYVPSAKGAALPITPSVDTWDRVIDYQPIKG\n",
      "AYDPRWFLAGKADETDGRWLSGFFDKDSFQETLSGWAQTVIVGRARLGGIPIGTIAVETR\n",
      "TVERVVPADPANPSSMEQRIMEAGQVWYPNSAFKTGQAIFDFNREGLPLIIFANWRGFSG\n",
      "GQQDMFDEVLKRGSLIVDGLSTYKQPAFVYIVPNGELRGGAWVVLDPTINADGMMEMYAD\n",
      "ETARAGVLEPEGIVEIKLRKDKLVAMMERLDEPYRTLKAKTVDASLPVTDVTAAKTELAN\n",
      "REKILMPLYSQIALQFADLHDRPARMKAKGTIRETLVWSESRRYFYQRLLRRLAEEDALK\n",
      "RLAVADPSLSREARVDIVKAAINESQADYENDPAVTSALEHYKSKIASRVKDVRSNAMAD\n",
      "AVASMTKEDGQGVLEGLKRALGEKLSSDDVATLQRLLQV\n",
      "\n",
      ">KDQ18913.1 hypothetical protein BOTBODRAFT_28387 [Botryobasidium botryosum FD-172 SS1]\n",
      "MAFDHAKVAHFIGGNSLDRAPQGPVYDFVKSHGGHTVITKVLIANNGIAAVKEIRSIRQW\n",
      "CYETFGTERAVEFTAMATPEDLKVNAEYIRMADRYIEVPGGTNNNNYANVDLIVDIAERA\n",
      "GVHAVWAGWGHASENPRLPESLAKSKIVFIGPPGSAMRSLGDKISSTIVAQSAQVPTMAW\n",
      "SGTGISDTELSEQGYVTVPDNAYAEACINSVEEGLAKAEIIGWPVMIKASEGGGGKGIRK\n",
      "VDKAEQFKNAYHAVAGEIPGSPIFVMKLAGAARHLEVQLLADQYGNAISLFGRDCSVQRR\n",
      "HQKIIEEAPVSIAKPERFEDMEKAAVRLAKLVGYVSAGTVEYLYNHADDTFYFLELNPRL\n",
      "QVEHPTTEMVTGVNLPAAQLQIAMGLPLHRIRDIRQLYGVAPNAASEIDFGLTKPESAQL\n",
      "QRKPQPKGHVVAVRITAENPDAGFKPSSGSIQELNFRSNTNVWGYFSVGTAGGLHEYADS\n",
      "QFGHIFAYGQDRGESRKNMVVALKELSIRGDFRTTVEYLIKLLETTAFESNNFTTGWLDT\n",
      "LITNNLTAERPDPTLAVICGAVTKAHLMSEACWSEFKRILDKGQVPARDTLKTVFGVDFI\n",
      "YENVRYSFTAARSSLTTWTLYLNGGLTMVGARPLADGGLLVLLDGKSHSVYWSDEVNALR\n",
      "LMIDAKTCLIEQENDPTQLRSPSPGKLVRFLVDSGDHIKAGEPYAEIEVMKMYMPLVATE\n",
      "DGVPLFVKQPGVSLEPGDIIGVLTLDDPTRVKHAKPFEGLLPKMGDPGVIGSKPHQRLLQ\n",
      "HIAVLNNILDGFDNQAIMASTLKELKEVLTDPELPFSEITAILSSLSGRMPAKLEDAFRA\n",
      "AIDSARTKSGALELPAARLRKMLDNHLNDLRPQDRTMARAQLSALFDVVERYRGGLRHHE\n",
      "WLTVAGLLGRYEATEKLFGGPIEERVLSLRETHKDDLGVVAGLVLSHTKAQNKNKLVMAL\n",
      "LDLIKTEGSSFVNADTGISAVLTNLAALESKSTNAVALKAREVLILTQLPSYEERSVQME\n",
      "QVLKASVTASFYGAQSAGRRHPNAEVLRELCDSNFVVYDVLPTFFKNDDHYVVLASLEVY\n",
      "VRRAYRAYSLLSLDYEEGDGLDDGLNPSAIVWRFKIGQSSSPPSTPRIDSFRDNSRTGSV\n",
      "SDLTYMNVRSSSQITPIRNGAMGSFPNLEILEKGFEHICKLLPFFDFDLFKMRHGENAAP\n",
      "PNVLYLAVRIFDPKDDMEDSEWREKFLQLANERAPTMNERGVRRVTFLLCRKAQYPLFFT\n",
      "LRDFAGVWKEEQAIRNVEPALAFQLELSRLSNYKITPCFTEDRQLHIYHGVANENQFDNR\n",
      "FFIRALVRPGRLASGMDVAEYLISETDRLVGTILDALEIVNARYRGADCNHILLNFIYNL\n",
      "SVTYEEVLKAIYGFLERHGKRLWRLHVTGAEIRIVLEDSEGNITPIRCVIENVSGFIVNY\n",
      "YAYQEITTDKGSTILKAIGEKGPMHLQPVHLPFPTKGSLQPKRYQAHLVGTTYVYDFPDL\n",
      "FSKSLQNIWVEARKINPSLQFPKVYLESRELVLDEHDELTDVDRAPGNNACGMVAWTFVL\n",
      "RTPEYPHGRQVVAVANDITYTIGSFGPLEDQFFYKVTEYARQRGLPRIYLSANSGARLGI\n",
      "AEETLNLFSCAWNVKDEPEKGINYLYLTPEALDKLNEKGAGSVLTEEIEDEGERRHKITD\n",
      "VIGLQDGLGVECLKGAGLIAGETSRAYDDIFTITLVTARSVGIGAYLVRLGQRAVQVEGQ\n",
      "PIILTGAGALNKVLGREVYTSNLQLGGTQIMYKNGVSHLTASSDLEGATHILKWLSYVPE\n",
      "RKGAKLPVTVSVDPWDRDIEYTPTKSPYDPRWFIEGKKDETTQEYLSGFFDAGSFQETLS\n",
      "GWAQTVVVGRARLGGIPMGIIAVETRTIERVVPADPANPSSFEQRIMEAGQVWYPNSAYK\n",
      "TAQAIFDFNREGLPLIIFANWRGFSGGQQDMYDEVLKQGAKIVDGLSAYKYPIFIYIVPN\n",
      "GELRGGAYVVLDPTINSEQMEMYADVESRAGVLEAEGIVEIKLRRPKILSLMERLDAPYA\n",
      "ALSKASKDQSKSAEERAQAAEQLAARESVLQSTYKQIALLYADLHDRTGRMEAKGCATAL\n",
      "VWKDARRHFYWALRARLARSSALAQIAAANPDTTPQYRTELLAGALSTVDLSNHRAAAKA\n",
      "YEEVNLEPTLAQLNGEYVVSRMLDLLKSNRAMGIEGIARAAAQELSEEEKASLIALLQDR\n",
      "STAGPPSYSLPA\n",
      "\n",
      ">XP_025349007.1 hypothetical protein BCV69DRAFT_157076 [Pseudomicrostroma glucosiphilum]\n",
      "MPPTATGTDASAASSSQGRRPSFDFTIHKGKPEISAAHPASMLNEGAIAEEGEDGRATPP\n",
      "NEVATNGSRSAHEKVKHFFGGNHLDVAPSGPVTDFVRKQGGHTVITKVLICNNGIAAVKE\n",
      "IRSVRKWAYETFGDERAIEFTVMATPEDLKINADYIRMAEQYVEVPGGSNNNNYANVDLI\n",
      "VDIAERAGVHAVWAGWGHASENPRLPESLAASPQKIVFIGPPGSAMRSLGDKISSTIVAQ\n",
      "HADVPCMPWSGTGIKDTVMSEQGFLTVSDEVYQRACIHSAEEGLEKAEIIGFPVMIKASE\n",
      "GGGGKGIRMCKAAEDFKQLYNAALGEVPGSPIFVMKLAGKARHLEVQLLADQYGNAISIF\n",
      "GRDCSVQRRHQKIIEEAPVTIAPEQARDEMEKAAVRLAKLVGYVSAGTVEWLYSPENNDF\n",
      "AFLELNPRLQVEHPTTEMVSGVNIPAAQLQVAMGIPLDRIRDIRTLYGMDPRGSDPIDFD\n",
      "FVDPESTKKQRKPQPKGHVVACRITAENPDTGFKPGMGALTELTFRSSDSVWGYFSVQAS\n",
      "GGLHEFADSQFGHLFAYSPSSRDEARKNMIISLKELSIRGDFRTTVEYLIRLLETPTFID\n",
      "NSLNTSWLDRLIVERFAAERPPRDLAVIAGAAVHAHLKAQECENNYKRILNKGQVPPRQT\n",
      "LQSVFSNIEFIHENIKYSWTASRCSRSVWSLWLNGGRILVSVRQLADGGLLITLAGGKSH\n",
      "PVYFQQEVGSMRLSIDARTCTIEEENDPTQITAPSPGKLQRLLVESGEHVKAGAVLAEIE\n",
      "VMKMYLPLLAAEDAIVSWVKSPGTSVAQGDVLGILALDDPSKVQHAKPFSGQLPDIGLPV\n",
      "IVGQKAEQRFSHVLEVLTDVLDGFDQSFTMYAALAELSELLRDPTLPYGQAQRILSALSG\n",
      "RMPARLEESFRANIETAQKRGAEFPAARLRKTVEAFLKDSVEPASRGQIQTTLTPLTQLL\n",
      "EEYNGGLKAHEASVYASLLEKYYLTESRFTGEADVVLVLRQEADDDLQAVVDQVQSHNGV\n",
      "ARKNGLILALLEKYVRPSSYLTRGSDGAKMQEVLSQLASLQGKLVAPVALKAREVAIAAH\n",
      "LPSLEDRQYQMESILKNSVSANSYGSDEEYHTPNITILQELADSQYSVYDVLHAFFRSRK\n",
      "PAIAFAALVTYVLRAYRAYDLVNFDYAMEDFSAEERAVISWDFQLANPGKPTSERKASET\n",
      "DLEGLMKAKENANKRPDLRQGVMTSVGMISDLTDALPKVLKVFKRGNATSPINVLNIAVT\n",
      "DEGDTSDAQARDQFVAYTNQFGDAIAKAGIRRVTYLHTQPGVYPWFTTLRRSEDGTWAEE\n",
      "RAIRNIEPALAYQLELSRLVTNFEIVPIPVTSSSVHLYFARSRQNPSDVRFFVRALIRPG\n",
      "KISGEAAADFLIASTDKHLSDVLDTLEVAEGRPDTRGTDDNNIFLSFLYDLPEEVELEKV\n",
      "SETLASFVERHGPRLFRLRVTNAEIRLVLTQKGERLPLRFFVFNETGFQVRFEGYQEHVS\n",
      "DAGRTTLRSILGPGRLNGELANFPYEPRVALQTRRARAHALQTTFCHDLVAVFRESLRAS\n",
      "WKGAPGAPSDPLPSVSELVIDEEEDVLRETQRPAGLNKIGMVAWLITAITREYPQGRKLI\n",
      "IIANDVTIQAGSFGPAEDRFFAAASKLARQMRIPRLYVSANSGARIGLASEPMGLFKVKF\n",
      "LRDDPSKGFEYLYLDDAGLQTLTSKAAGSVITETTTAADGTNHHVITDIIGLQEGLGVEC\n",
      "LSGSGLIAGETSRATQEIFTATIVTGRSVGIGAYLARLGERVIQVEGSPMILTGYQALNK\n",
      "LLGREVYTSNLQLGGPQIMYRNGVSHLTAADDMAAMREFVRWLSYIPEAKGAALPLTIGN\n",
      "NDTWDRPVGYSPPKGPYDPRFLLEGTTGEDGSYLSGIFDKGSWTETLAGWATSVVVGRAR\n",
      "LGGIPVGVIAVETRTLERVVPADPANPNSNEQRIMEAGQVWYPNSAHKTAQAIADLNREG\n",
      "LPLMILANWRGFSGGQEDMFQQILKFGSMIVDGLVAFKQPVFVYLPPGAELRGGAWVVID\n",
      "RTINENGMMEMYADPTSRGGVLEPEGIVSVKYRQDKQRDTMARLDPKYAELVAAGDKAGI\n",
      "VAREKEVGPVFAAVAVAYADLHDKTGRMAAMGVIRQAVPWAESRRYFYQRLRRRLLEESY\n",
      "VSTIRGAQPKMSASEARAFLENVIQVGLEDVDDPTIAGLLEQKKDALEGALKDLRRKFAL\n",
      "DKISELALGLDEATKQKLMAALDGQQQ\n",
      "\n"
     ]
    }
   ],
   "source": [
    "for seq in seqs_w_phos[0:1]+seqs_wo_phos:\n",
    "    print(seq.format(\"fasta\"))"
   ]
  },
  {
   "cell_type": "code",
   "execution_count": 32,
   "metadata": {},
   "outputs": [],
   "source": [
    "store = seqs_wo_phos\n",
    "seqs_wo_phos = seqs_wo_phos[:2]"
   ]
  },
  {
   "cell_type": "code",
   "execution_count": 33,
   "metadata": {},
   "outputs": [
    {
     "data": {
      "text/plain": [
       "[SeqRecord(seq=Seq('MYHSCFLTERSASNVSTLFQSSSTFSTCHSPPFPPFHIFSLTSLLSQRHVRSSL...VKP', IUPACProtein()), id='XP_002174469.1', name='XP_002174469', description='acetyl-CoA/biotin carboxylase [Schizosaccharomyces japonicus yFS275]', dbxrefs=['BioProject:PRJNA32667', 'BioSample:SAMN02953668']),\n",
       " SeqRecord(seq=Seq('MPELTQNGLPHRNGKASYAEKHNIADHFIGGNRLENAPPSKVKDFVAEHDGHTV...LKD', IUPACProtein()), id='KFH45103.1', name='KFH45103', description='Acetyl-CoA carboxylase-like protein [Acremonium chrysogenum ATCC 11550]', dbxrefs=['BioProject:PRJNA248608', 'BioSample:SAMN02799700'])]"
      ]
     },
     "execution_count": 33,
     "metadata": {},
     "output_type": "execute_result"
    }
   ],
   "source": [
    "seqs_wo_phos"
   ]
  },
  {
   "cell_type": "code",
   "execution_count": 2,
   "metadata": {},
   "outputs": [],
   "source": [
    "from Bio import Entrez\n",
    "\n",
    "Entrez.email = \"bjornjobb@gmail.com\"\n",
    "\n",
    "epost_1 = Entrez.read(Entrez.epost(\"protein\", id=\",\".join(seqs_wo_phos)))\n",
    "\n",
    "webenv = epost_1[\"WebEnv\"]\n",
    "\n",
    "query_key = epost_1[\"QueryKey\"]\n",
    "\n",
    "iden_prots = Entrez.efetch(db=\"protein\", \n",
    "                           rettype='ipg', \n",
    "                           retmode='text', \n",
    "                           webenv=epost_1[\"WebEnv\"], \n",
    "                           query_key=epost_1[\"QueryKey\"])"
   ]
  },
  {
   "cell_type": "code",
   "execution_count": 3,
   "metadata": {},
   "outputs": [],
   "source": [
    "# Id              Source  Nucleotide Accession    Start   Stop    Strand  Protein         Protein Name                    Organism            Strain              Assembly\n",
    "# 15864892        RefSeq  NW_011627861.1          847281  854150  -       XP_002174469.1  acetyl-CoA/biotin carboxylase   Schizosaccharomyces japonicus yFS275    yFS275  GCF_000149845.2\n",
    "# 15864892        RefSeq  XM_002174433.1          1       6870    +       XP_002174469.1  acetyl-CoA/biotin carboxylase   Schizosaccharomyces japonicus yFS275    yFS275  \n",
    "# 15864892        INSDC   KE651167.1              847281  854150  -       EEB08176.1      acetyl-CoA/biotin carboxylase   Schizosaccharomyces japonicus yFS275    yFS275  GCA_000149845.2"
   ]
  },
  {
   "cell_type": "code",
   "execution_count": 4,
   "metadata": {},
   "outputs": [],
   "source": [
    "import pandas\n",
    "\n",
    "df = pandas.read_csv(iden_prots, sep=\"\\t\")\n",
    "accno = df[\"Nucleotide Accession\"][0]\n",
    "start = df[\"Start\"][0]\n",
    "stop  = df[\"Stop\"][0]\n",
    "strand = df[\"Strand\"][0]\n",
    "\n",
    "from pydna.genbank import genbank\n",
    "\n",
    "seq = genbank(accno, seq_start=start, seq_stop=stop, strand=strand)"
   ]
  },
  {
   "cell_type": "code",
   "execution_count": 5,
   "metadata": {},
   "outputs": [
    {
     "data": {
      "text/html": [
       "<a href='https://www.ncbi.nlm.nih.gov/nuccore/NW_011627861.1?from=847281&to=854150&strand=2' target='_blank'>NW_011627861.1 847281-854150</a>"
      ],
      "text/plain": [
       "Gbank(NW_011627861.1 847281-854150)(-6870)"
      ]
     },
     "execution_count": 5,
     "metadata": {},
     "output_type": "execute_result"
    }
   ],
   "source": [
    "seq"
   ]
  },
  {
   "cell_type": "markdown",
   "metadata": {},
   "source": [
    "The sequences above were aligned using tcoffee (http://tcoffee.crg.cat/)"
   ]
  },
  {
   "cell_type": "markdown",
   "metadata": {},
   "source": [
    "http://www.ncbi.nlm.nih.gov/Taxonomy/Utils/wprintgc.cgi#SG12\n",
    "http://article.gmane.org/gmane.comp.python.bio.general/7974/match=elink\n",
    "http://article.gmane.org/gmane.comp.python.bio.general/4495/match=elink"
   ]
  },
  {
   "cell_type": "code",
   "execution_count": 6,
   "metadata": {
    "collapsed": true
   },
   "outputs": [],
   "source": [
    "cai_table = '''\n",
    "\n",
    "Gly\tGGG\t17673\t6.05\t0.12\n",
    "Gly\tGGA\t32723\t11.20\t0.23\n",
    "Gly\tGGT\t66198\t22.66\t0.46\n",
    "Gly\tGGC\t28522\t9.76\t0.20\n",
    "\t\n",
    "Glu\tGAG\t57046\t19.52\t0.30\n",
    "Glu\tGAA\t133737\t45.77\t0.70\n",
    "Asp\tGAT\t111276\t38.08\t0.65\n",
    "Asp\tGAC\t59389\t20.33\t0.35\n",
    "\t\n",
    "Val\tGTG\t31266\t10.70\t0.19\n",
    "Val\tGTA\t35397\t12.11\t0.22\n",
    "Val\tGTT\t62735\t21.47\t0.39\n",
    "Val\tGTC\t32738\t11.20\t0.20\n",
    "\t\n",
    "Ala\tGCG\t17988\t6.16\t0.11\n",
    "Ala\tGCA\t47538\t16.27\t0.30\n",
    "Ala\tGCT\t59300\t20.29\t0.37\n",
    "Ala\tGCC\t35410\t12.12\t0.22\n",
    "\t\n",
    "Arg\tAGG\t27561\t9.43\t0.21\n",
    "Arg\tAGA\t61537\t21.06\t0.48\n",
    "Ser\tAGT\t42657\t14.60\t0.16\n",
    "Ser\tAGC\t29003\t9.93\t0.11\n",
    "\t\n",
    "Lys\tAAG\t89004\t30.46\t0.42\n",
    "Lys\tAAA\t125276\t42.87\t0.58\n",
    "Asn\tAAT\t107428\t36.77\t0.60\n",
    "Asn\tAAC\t72290\t24.74\t0.40\n",
    "\t\n",
    "Met\tATG\t60426\t20.68\t1.00\n",
    "Ile\tATA\t53518\t18.32\t0.28\n",
    "Ile\tATT\t88351\t30.24\t0.46\n",
    "Ile\tATC\t49535\t16.95\t0.26\n",
    "\t\n",
    "Thr\tACG\t23766\t8.13\t0.14\n",
    "Thr\tACA\t53147\t18.19\t0.31\n",
    "Thr\tACT\t59096\t20.23\t0.34\n",
    "Thr\tACC\t36395\t12.46\t0.21\n",
    "\t\n",
    "Trp\tTGG\t30179\t10.33\t1.00\n",
    "End\tTGA\t1863\t0.64\t0.31\n",
    "Cys\tTGT\t22879\t7.83\t0.62\n",
    "Cys\tTGC\t13811\t4.73\t0.38\n",
    "\t\n",
    "End\tTAG\t1349\t0.46\t0.22\n",
    "End\tTAA\t2798\t0.96\t0.47\n",
    "Tyr\tTAT\t55965\t19.15\t0.57\n",
    "Tyr\tTAC\t42551\t14.56\t0.43\n",
    "\t\n",
    "Leu\tTTG\t77261\t26.44\t0.28\n",
    "Leu\tTTA\t77615\t26.56\t0.28\n",
    "Phe\tTTT\t76557\t26.20\t0.59\n",
    "Phe\tTTC\t52201\t17.87\t0.41\n",
    "\t\n",
    "Ser\tTCG\t25381\t8.69\t0.10\n",
    "Ser\tTCA\t55725\t19.07\t0.21\n",
    "Ser\tTCT\t68207\t23.34\t0.26\n",
    "Ser\tTCC\t40972\t14.02\t0.16\n",
    "\t\n",
    "Arg\tCGG\t5299\t1.81\t0.04\n",
    "Arg\tCGA\t9050\t3.10\t0.07\n",
    "Arg\tCGT\t18272\t6.25\t0.14\n",
    "Arg\tCGC\t7644\t2.62\t0.06\n",
    "\t\n",
    "Gln\tCAG\t36222\t12.40\t0.31\n",
    "Gln\tCAA\t79131\t27.08\t0.69\n",
    "His\tCAT\t40577\t13.89\t0.64\n",
    "His\tCAC\t22559\t7.72\t0.36\n",
    "\t\n",
    "Leu\tCTG\t31054\t10.63\t0.11\n",
    "Leu\tCTA\t39440\t13.50\t0.14\n",
    "Leu\tCTT\t35753\t12.24\t0.13\n",
    "Leu\tCTC\t16086\t5.51\t0.06\n",
    "\t\n",
    "Pro\tCCG\t15778\t5.40\t0.12\n",
    "Pro\tCCA\t51993\t17.79\t0.41\n",
    "Pro\tCCT\t39685\t13.58\t0.31\n",
    "Pro\tCCC\t20139\t6.89\t0.16'''"
   ]
  },
  {
   "cell_type": "code",
   "execution_count": 19,
   "metadata": {
    "collapsed": true
   },
   "outputs": [],
   "source": [
    "import csv\n",
    "\n",
    "index = {}\n",
    "for aa, cn, n1,n2, f in csv.reader([x for x in cai_table.splitlines() if x.strip()], delimiter='\\t'):\n",
    "    index[cn] = float(f)\n",
    "\n",
    "from Bio.SeqUtils.CodonUsage import CodonAdaptationIndex\n",
    "from Bio.SeqUtils.CodonUsageIndices import SharpEcoliIndex\n",
    "from pprint import pprint\n",
    "cai = CodonAdaptationIndex()\n",
    "cai.set_cai_index(index)"
   ]
  },
  {
   "cell_type": "code",
   "execution_count": 34,
   "metadata": {},
   "outputs": [
    {
     "data": {
      "text/plain": [
       "ATGTATCACTCGTGTTTTTTGACCGAACGTTCTGCCAGTAACGTCTCAACGCTCTTCCAATCGTCCTCTACCTTCTCTACGTGTCATTCGCCCCCTTTCCCACCATTTCACATCTTCTCTCTAACGTCTCTCCTGTCTCAACGACACGTTCGTTCCTCGTTACCACTGATACTAACCATTGCAGGAGGCAATTCCCTCAGCGTTGCCCCAGAAGGAAAGCTGAAAGACTATGTTAAGTCTCGTAATGGACACACTGTAATTTCTTCCATTCTGATCGCAAACAACGGTATTGCAGCCGTCAAGGAAATTCGAAGCATTCGGAAATGGGCTTATGAAACATTTAACGATGAAAGAGCTATTCAGTTTACGGTAATGGCCACACCTGAAGATTTGAAAGTAAACGCAGACTATATTAGAATGGCCGATCAATATATTGAGGTCCCCGGTGGCTCTAACAACAACAATTACGCAAACGTCGAACTCATTGTGGACATTGCTGAACGCATGGGAGTTCATGCCGTTTGGGCCGGTTGGGGTCACGCCTCAGAGAATCCTCGTCTGCCCGAAATGCTCGCTGCCAGTAAACAGAAAATTGTTTTTATTGGTCCTCCTGGCAATGCCATGCGTAGTTTGGGTGACAAGATTAGTTCTACAATTGTTGCTCAAAGTGCTCGCGTGCCTTGCATGCCCTGGTCCGGTAACGGCATTGACACGGTTCATGTCGACGATGACACGGGCATTGTCACAGTCGACGAAGACACATACTCAAAGGCTTGTGTGACCTCGCCCGAACAGGGTCTGCAGGTGGCCAAGGAGGTTGGCTTTCCCATTATGATTAAAGCCTCTGAAGGCGGTGGTGGTAAGGGTATCCGTAAGGTGGAGGAACCTGAAAAGTTTGCTCAGTGTTATGAACAGGTCATGGCTGAGGTTCCGGGTTCTCCTGTTTTTATCATGAAGCTTGCAGGTCATGCCCGTCATCTGGAAGTCCAGCTGCTTGCTGACCAGTACGGCAACAACATATCCTTGTTTGGTCGTGATTGTTCCGTTCAACGTCGGCACCAGAAGATCATTGAGGAGGCTCCTGTCAGCATCGCACCCGCTGAAACCTTCCATCAAATGGAGCGCTGCGCTGTCCGTCTTGGTGAACTTGTTGGTTATGTTTCAGCCGGTACGGTCGAGTACCTTTACGAACCCGAGGAGAACAAGTTCTACTTCCTCGAACTGAATCCTCGTTTACAAGTTGAGCACCCTACCACTGAGATGGTCTCGGGTGTGAACCTTCCCGCCGCCCAATTGCAGGTCGCTATGGGTATTCCATTGAAATGCATTCCAGATATTCGCACAATGTACGGTCTTGATCCCAATGGTGACAGTGACATCGACTGGTTCTTCAAGAACCCCGAGTCTCTGCAAACTCAAAAGCGTCCTACTCCTCGTGGTCACTGTATCGCTTGCAGAATTACGTCCGAGGATCCTGGTGAAGGTTTTAAGCCTTCCAGTGGTATGATTAAAGAACTTAATTTCCGGTCTTCTAGTGATGTTTGGGGATACTTTTCTGTCGGTACCGCTGGCGGTATTCATGAGTACGCCGACTCTCAGTTTGGTCATATTTTTGCCTTTGCTAAGACTCGCGAGTCGAGTCGGAAATCTTTGGTTGTTGCATTGAAGGAGGTCTCTATTCGTGGTGACTTCCGCACTACAGTTGAGTATCTCATCCGGTTGTTGGAGACGTCTGCTTTCACGGAGAATCGTTTCACAACTGGATGGCTTGACACACTTATTTCACAGAAGCTTACGTCGGAAAAGCCTGATAAGATTCTTGCTGTCGTTTGCGGCGCTCTTGTTCGTGCCCATGCCACCTCAGAGGAGCAGCATCGTGCCTTCCGTTCATATTTGGAACGCGGTCAAGTTCCGTCTCGAGACTTCCTGAAAAACATTTATGACATTGAATTCATTTATGAGAATCAACGTTACCGTTTCACTGCCACCCGTTCCTCTCCCGGTTCTTATCATCTTTTCCTTAATGGCTCTCGTTGTACTGCCGGCGTCCGCACATTGACCGATGGTGGTCTTTTGATTCTCCTTAATGGTCATTCCTTTACCGTGTATTACAGAGATGAAGTGAATGGTACAAGAATTACCATTGACAACAAATCATGCATTCTTGAACAAGAGAATGACCCCACCCAACTTAGAACTCCCTCCCCCGGTAAGCTCGTTCGTTTCTTGGTTGAAACTGGTGAGCACATTAAGGCTGGCGAAGCCTTTGCTGAAGTTGAAGTGATGAAGATGATTATGCCTTTGGTCGCAGCCGAGGACGGTATCATTCAACTCATTAAACAACCTGGAGCTTCCCTGGAGGCCGGTGACATTTTGGGCATTCTTACTCTTGACGACCCCAGTCGCGTAAAGCATGCACTGCCGTTCAATGGCCAGCTTCCTGTTTGGGGAGAGCCTCAAATTGCAGGCAGCAAGCCCGCTCAACGTTACAGCGCCCTTTTGGGTATCTTAAAGGATATCCTGAGAGGTTATGATAATCAAATTATTATGAAGAGCACTTATAAAGAGCTCGTCGAAGTTTTGCGTGATCCCGAGTTGCCTTATGGAGAGTGGAATGCTCACTACTCCGCTCTTGTTAGCCGTATTCCTCACAATCTCGACAAGGTGTTCACTTCTATTGTTGAGAAAGCTCATCATCGCAAGTCGGAATTTCCGGCGAAGCAGTTAATTATGGCTCTTAATGCATACTTTGAGCCTCAAAAACTGGCTGCTATTCAAACTCTGAAGATGCAACTTGCCCCTCTCATTGAGATAATGGAGAAGTACAAGGAAGGCTTGAAGGCTCATGAGTTTTCCGTTTTTATTGAACTTCTTGAAGATTACTATAATGTCGAGAGACTTTTCTCCGGTCCTCACAAGAGAGAGGAGGATGTTATTCTTCGCCTTCGCGATGAGAACAAGGATGATGCCGATAAAGTTATCGACCTGGCACTTTCGCACTCTCGCATTGGCTCAAAGAATAACTTGATCCTTACTATTTTGGACCTTATCAAGTCTGAACCTTCAACGTTCGTCTCCACCTATTTTAATGATATCTTCCGGAAGTTAACTGAGCTGGATTCTCGTGCTACTGCAAAGGTGGCACTCAAGGCACGTGAGATTCTCATTACCTGTGCAATGCCTTCTTTGTCTGAACGTTTCTCTCAGATGGAGCATATTCTCAGATCCTCCGTTGTCGAAAGTCATTACGGTGATGCTACATTCTCTCACCGTGCCCCTTACCTCGAGGTCTTGAAAGAGCTCATTGATTCGAAATATACTGTTTTCGATGTGCTCCCTGCCTTCTTCTGCCACGATGATCCTTGGGTTTCGTTGGCTGCCCTTGAAGTTTATGTCCGCCGTGCTTACCGTGCCTATGCCGTCTTGGAGTTGAGTTATCATACCGAGTCCAAGCCTTTTGTCTTGTCTTGGCAATTCCAATTGCGTGCCTCTGGTACTCCTGGTCTCGGCGCTACAAACAACAATTCCGCTAGTCAGACAACGACGTCCCAAGAAACCGTTAACAAACGTCTTCAATCCGTGAGTGACCTGTCGTGGTACGTGAACAAGTCGGACTCTGAGCCTCTTCGTTTCGGTGTCATTGTTCCTTGCAGAGACTTCAGCGAGCTTGAGGATAACTTGACCATGGCTATTGACCGCTTGCCTTTGGCTAGAGGTTACTATGGTGCTGGTCTCACCCTTGAGAACACCGTTAAGGAGAACTCTCAAGAGTTGACCAATGTAGTTAATGTTGCCTTGACCTCAACTGCCAATCTTGATGACGCTTCTATTGTTGAGCGTTTGAGTGAGTGCGTAGTTGAGCTTCGTGAGGACCTGCTGGAGCACAATGTTCGTCGTATTACCTTCATTGGTGGTCGTTTGAACAAGTCTGCTTACCCCTCCTACTTCACATTCCGTGCATCTTCTCACGAACAAAACCGTGATGGTAAGTTTATTCGCTATATTGAAGATGAACGTATTCGTCACATTGAGCCTGCTCTTGCTTTCCAGCTTGAACTCGGTCGTCTTTCCAACTTTGACATCGAACCTGTTTTCACAGACAACCACAACATCCATGTCTACCGTGCTACGGCTAAGAACATGAGCACAGATAAACGTTTCTTTACCCGTGCTCTTGTTCGTCCTGGTAGACTTCGGGATGAGATTCCCACTGCTGAGTACCTTATTTCGGAGACTCACAGTCTGATTAGTGACATTCTTGATGCACTTGAGGTCATTGGTCCTGATGCAACCGATTTGAATCATATTTTCATCAACTTCACTCCGGCTTTTGGACTGGCTCCTAAGCAAGTTGAAGCTGCCCTTGGCGGATTTTTGGAACGTTTTGGAAGAAGATTGTGGAGATTGCGTGTTACAGCTGCAGAAATCCGTATTATTTGCACGGATCCTGAGACGAACTCTTTGTTCCCTCTTCGTGTCATTATTTCTAATGTTTCTGGTTTTGTTGTTAATATTGAGATGTATGCTGAAGTCAAGACTGATAATGGCTCTTGGATTTTCAAGAGTATCGGACAGCCGGGTTCCATGCATCTTCGTCCTATCAATACGCCTTATCCCAACAAGGAATGGCTGCAGCCACGTCGCTACAAGGCTCAATTGATGGGAACTACGTTCGTGTATGATTTCCCCGAGCTTTTCCACCGTGCATTCACAAATTCTTGGAAGAATAATGTTGAATCCGCAGACAAGATTCCCGCCGACATTTTTGAGTATAAGGAATTTGTTCTTGATGAAAAGCTGGAATTACAAGAGGTCTCTCGTGAGCCAGGCACCAATTCATGCGGTATGGTTGCTTGGATTATGACTGCAAAGACTCCTGAGTATCCCAACGGAAGACAGTTTATTGTCATTGCTAACGATATCACGTACAAGATTGGTTCTTTCGGACCTGAGGAGGACAGATTCTTCTTCAAGGTTACTGAGCATGCTCGCGCTCTTGGTCTTCCTCGTATTTACTTGGCTGCCAACTCTGGTGCACGCATTGGTGTTGCAGATGAACTTGTTCCTCTGTTTAACGTTGCTTGGGTTGATCCAGAGAACCCTGAAAAGGGTTTCGACTACCTCTACCTGACTCCTGAAACCGAGGCACGTTTGTGCAAGGCCGATGAGAAGACGTTGATTACCGAGAAAATTGAGGAGAATGGAGAGGAACGTTACAAGATCACTGCCATCGTTGGTGCAGAAGAGGGCCTTGGTGTCGAATGTCTTCGCGGCTCTGGTCTCATCGCGGGTGTTACTTCTCGTGCTTATAACGACATTTGGACGTGTACTCTTGTCACTTGTCGTGCTGTTGGTATTGGTGCCTACCTTGTTCGTCTTGGTCAGCGTGCAGTTCAAGTGGAGGGTCAACCTATTATTCTTACAGGTGCTCCTGCTTTGAACAAGGTTCTTGGTCGCGAAGTGTACACTTCAAACTTACAACTTGGTGGTACTCAAGTTATGCATCGTAATGGTGTTTCGCATCTCACCGCTCAAGATGATTTCGATGGTATCTCTAAGATTATTGAGTGGATGTCTTATGTCCCTGAGAAGCGTAATAGTCCTGTTCCTATCGCTCCTTGTACCGACACTTGGGATCGTGATGTTGAATTTTACCCCAACATGAATGGCTACGATCCTCGCTGGTTGATTGCCGGTAAGGAAGAAGATGAGGGTTTCTTGTACGGTTTGTTTGACCGCAATTCCTTCCAAGAGACTTTGAACGGTTGGGCAAGAACCGTCGTTGTTGGACGTGCTCGGCTTGGTGGCATACCTTTGGGTGTCATTGCTGTTGAGACGAGATGCATCGAAAATACCGTTCCTGCTGATCCTGCAAACCCTGATTCCACTGAACAAGTGTTGATGGAGGCAGGCCAAGTCTGGTACCCCAACTCTGCTTTCAAGACTGCTCAGGCTATTAACGACTTTAACCATGGTGAACAACTTCCTCTGTTCGTTCTTGCCAATTGGCGTGGTTTCTCTGGTGGTCAACGGGATATGTACAACGAAGTTTTGAAGTATGGTTCCTATATCGTTGACGCCTTGTCCAACTATCAACAACCCGTGTTCATCTATATTCCTCCTCACAGCGAGCTTCGTGGTGGTTCTTGGGTCGTCGTTGATCCTACCATCAATGAGGACATGATGGAAATGTATGCCGACTATGAGTCCCGTGCTGGTGTTTTAGAGCCGGAAGGTATGGTTAGCATTAAATTCCGTCGTGAGAAGTTGCTCTCCTTGATGAGACGCATTGATCCCGTGTATTCTACTTTGAGCCGTGAGCTCGAGAAAAGCGGTTTATCCACAGACGAGCAATCAGACATCAGAGTGAAACTGATGGATCGTGAGCAAAAGCTGATGCCCATCTATCAACAAATCAGTATTCACTTCGCTGATTTGCATGACCGTGCTGAGCGGATGCTTTCCAAGAAGGTTATTCGTAAGCCCCTTCACTGGACTCAAGCACGTCGTTTCTTCTACTGGCGTCTTCGTAGACGGTTGGATGAGCATTACTCATGCAAGCAACTTGTTCAAAGTATTCCTTCTATGACGCTCGCCAATGCCAAAAAGCAACTTCGTTCCTGGTTTGAGGCTGCCAATACTGAGAAGGATTGGGAAGCTGATGACAGAGCTGTTGTCGCTTGGATTGAGGAACATCCCGAAGAGCTTGTTTCAAAGGCCGTTGAATTGAAGAATGAACGCCATCTCCGTGATGTTATTGAGCTTCTTACCGTCGACAAGACTGAGCTGCTCACTGGTATTGTTCAAGTCATTGGTAAACTCTCTGAGGATGAGAAGGCCAAGCTTTCGGAAGCACTTGTTAAACCGTAA"
      ]
     },
     "execution_count": 34,
     "metadata": {},
     "output_type": "execute_result"
    }
   ],
   "source": [
    "str(g.seq)"
   ]
  },
  {
   "cell_type": "code",
   "execution_count": 22,
   "metadata": {},
   "outputs": [],
   "source": [
    "genes = (seq,)"
   ]
  },
  {
   "cell_type": "code",
   "execution_count": 28,
   "metadata": {
    "collapsed": true
   },
   "outputs": [
    {
     "name": "stdout",
     "output_type": "stream",
     "text": [
      "NW_011627861.1           0.306           46.885\n"
     ]
    }
   ],
   "source": [
    "from Bio.SeqUtils import GC\n",
    "\n",
    "for g in genes:\n",
    "    print(g.id, \"         \", round( cai.cai_for_gene( str(g.seq) ),3), \"         \", round(GC(str(g.seq)),3))"
   ]
  },
  {
   "cell_type": "code",
   "execution_count": null,
   "metadata": {},
   "outputs": [],
   "source": []
  }
 ],
 "metadata": {
  "kernelspec": {
   "display_name": "Python [conda env:bjorn36]",
   "language": "python",
   "name": "conda-env-bjorn36-py"
  },
  "language_info": {
   "codemirror_mode": {
    "name": "ipython",
    "version": 3
   },
   "file_extension": ".py",
   "mimetype": "text/x-python",
   "name": "python",
   "nbconvert_exporter": "python",
   "pygments_lexer": "ipython3",
   "version": "3.6.6"
  }
 },
 "nbformat": 4,
 "nbformat_minor": 2
}
